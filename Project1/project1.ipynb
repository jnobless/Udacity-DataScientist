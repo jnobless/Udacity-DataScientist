{
 "cells": [
  {
   "cell_type": "markdown",
   "id": "fe27f4e2",
   "metadata": {},
   "source": [
    "## Context\n",
    "According to the World Health Organization (WHO) stroke is the 2nd leading cause of death globally, responsible for approximately 11% of total deaths.\n",
    "This dataset is used to predict whether a patient is likely to get stroke based on the input parameters like gender, age, various diseases, and smoking status. Each row in the data provides relavant information about the patient.\n",
    "\n",
    "### Dataset Attribute Information\n",
    "1) id: unique identifier  \n",
    "2) gender: \"Male\", \"Female\" or \"Other\"  \n",
    "3) age: age of the patient  \n",
    "4) hypertension: 0 if the patient doesn't have hypertension, 1 if the patient has hypertension  \n",
    "5) heart_disease: 0 if the patient doesn't have any heart diseases, 1 if the patient has a heart disease  \n",
    "6) ever_married: \"No\" or \"Yes\"  \n",
    "7) work_type: \"children\", \"Govt_jov\", \"Never_worked\", \"Private\" or \"Self-employed\"  \n",
    "8) Residence_type: \"Rural\" or \"Urban\"  \n",
    "9) avg_glucose_level: average glucose level in blood  \n",
    "10) bmi: body mass index  \n",
    "11) smoking_status: \"formerly smoked\", \"never smoked\", \"smokes\" or \"Unknown\"*  \n",
    "12) stroke: 1 if the patient had a stroke or 0 if not  \n",
    "\n",
    "*Note: \"Unknown\" in smoking_status means that the information is unavailable for this patient"
   ]
  },
  {
   "cell_type": "code",
   "execution_count": 1,
   "id": "32061868",
   "metadata": {},
   "outputs": [],
   "source": [
    "import numpy as np\n",
    "import pandas as pd\n",
    "import os\n",
    "import researchpy as rp\n",
    "import matplotlib\n",
    "import matplotlib.ticker as mtick\n",
    "import matplotlib.pyplot as plt\n",
    "import seaborn as sns\n",
    "%matplotlib inline\n",
    "import scipy.stats as ss\n",
    "from sklearn.model_selection import train_test_split, cross_val_score, GridSearchCV\n",
    "from sklearn.preprocessing import StandardScaler, binarize\n",
    "from sklearn.pipeline import Pipeline\n",
    "from sklearn.svm import SVC\n",
    "from sklearn.linear_model import LogisticRegression\n",
    "from sklearn.ensemble import RandomForestClassifier, RandomForestRegressor\n",
    "from sklearn.metrics import classification_report, confusion_matrix, f1_score, accuracy_score, roc_curve, roc_auc_score, recall_score\n",
    "from sklearn.metrics import plot_confusion_matrix\n",
    "\n",
    "from imblearn.over_sampling import SMOTE\n",
    "\n",
    "\n",
    "import warnings\n",
    "warnings.filterwarnings(action='ignore')"
   ]
  },
  {
   "cell_type": "code",
   "execution_count": 2,
   "id": "f067afa3",
   "metadata": {},
   "outputs": [],
   "source": [
    "def get_or(contin):\n",
    "    odds1 = contin.iloc[0][1]/contin.iloc[0][0]\n",
    "    odds2 = contin.iloc[1][1]/contin.iloc[1][0]\n",
    "    return odds2/odds1"
   ]
  },
  {
   "cell_type": "code",
   "execution_count": 3,
   "id": "e720709b",
   "metadata": {},
   "outputs": [],
   "source": [
    "path = \"./data/healthcare-dataset-stroke-data.csv\"\n",
    "df = pd.read_csv(path)"
   ]
  },
  {
   "cell_type": "code",
   "execution_count": 4,
   "id": "d27b3f3e",
   "metadata": {
    "scrolled": true
   },
   "outputs": [
    {
     "data": {
      "text/html": [
       "<div>\n",
       "<style scoped>\n",
       "    .dataframe tbody tr th:only-of-type {\n",
       "        vertical-align: middle;\n",
       "    }\n",
       "\n",
       "    .dataframe tbody tr th {\n",
       "        vertical-align: top;\n",
       "    }\n",
       "\n",
       "    .dataframe thead th {\n",
       "        text-align: right;\n",
       "    }\n",
       "</style>\n",
       "<table border=\"1\" class=\"dataframe\">\n",
       "  <thead>\n",
       "    <tr style=\"text-align: right;\">\n",
       "      <th></th>\n",
       "      <th>id</th>\n",
       "      <th>gender</th>\n",
       "      <th>age</th>\n",
       "      <th>hypertension</th>\n",
       "      <th>heart_disease</th>\n",
       "      <th>ever_married</th>\n",
       "      <th>work_type</th>\n",
       "      <th>Residence_type</th>\n",
       "      <th>avg_glucose_level</th>\n",
       "      <th>bmi</th>\n",
       "      <th>smoking_status</th>\n",
       "      <th>stroke</th>\n",
       "    </tr>\n",
       "  </thead>\n",
       "  <tbody>\n",
       "    <tr>\n",
       "      <th>0</th>\n",
       "      <td>9046</td>\n",
       "      <td>Male</td>\n",
       "      <td>67.0</td>\n",
       "      <td>0</td>\n",
       "      <td>1</td>\n",
       "      <td>Yes</td>\n",
       "      <td>Private</td>\n",
       "      <td>Urban</td>\n",
       "      <td>228.69</td>\n",
       "      <td>36.6</td>\n",
       "      <td>formerly smoked</td>\n",
       "      <td>1</td>\n",
       "    </tr>\n",
       "    <tr>\n",
       "      <th>1</th>\n",
       "      <td>51676</td>\n",
       "      <td>Female</td>\n",
       "      <td>61.0</td>\n",
       "      <td>0</td>\n",
       "      <td>0</td>\n",
       "      <td>Yes</td>\n",
       "      <td>Self-employed</td>\n",
       "      <td>Rural</td>\n",
       "      <td>202.21</td>\n",
       "      <td>NaN</td>\n",
       "      <td>never smoked</td>\n",
       "      <td>1</td>\n",
       "    </tr>\n",
       "    <tr>\n",
       "      <th>2</th>\n",
       "      <td>31112</td>\n",
       "      <td>Male</td>\n",
       "      <td>80.0</td>\n",
       "      <td>0</td>\n",
       "      <td>1</td>\n",
       "      <td>Yes</td>\n",
       "      <td>Private</td>\n",
       "      <td>Rural</td>\n",
       "      <td>105.92</td>\n",
       "      <td>32.5</td>\n",
       "      <td>never smoked</td>\n",
       "      <td>1</td>\n",
       "    </tr>\n",
       "    <tr>\n",
       "      <th>3</th>\n",
       "      <td>60182</td>\n",
       "      <td>Female</td>\n",
       "      <td>49.0</td>\n",
       "      <td>0</td>\n",
       "      <td>0</td>\n",
       "      <td>Yes</td>\n",
       "      <td>Private</td>\n",
       "      <td>Urban</td>\n",
       "      <td>171.23</td>\n",
       "      <td>34.4</td>\n",
       "      <td>smokes</td>\n",
       "      <td>1</td>\n",
       "    </tr>\n",
       "    <tr>\n",
       "      <th>4</th>\n",
       "      <td>1665</td>\n",
       "      <td>Female</td>\n",
       "      <td>79.0</td>\n",
       "      <td>1</td>\n",
       "      <td>0</td>\n",
       "      <td>Yes</td>\n",
       "      <td>Self-employed</td>\n",
       "      <td>Rural</td>\n",
       "      <td>174.12</td>\n",
       "      <td>24.0</td>\n",
       "      <td>never smoked</td>\n",
       "      <td>1</td>\n",
       "    </tr>\n",
       "  </tbody>\n",
       "</table>\n",
       "</div>"
      ],
      "text/plain": [
       "      id  gender   age  hypertension  heart_disease ever_married  \\\n",
       "0   9046    Male  67.0             0              1          Yes   \n",
       "1  51676  Female  61.0             0              0          Yes   \n",
       "2  31112    Male  80.0             0              1          Yes   \n",
       "3  60182  Female  49.0             0              0          Yes   \n",
       "4   1665  Female  79.0             1              0          Yes   \n",
       "\n",
       "       work_type Residence_type  avg_glucose_level   bmi   smoking_status  \\\n",
       "0        Private          Urban             228.69  36.6  formerly smoked   \n",
       "1  Self-employed          Rural             202.21   NaN     never smoked   \n",
       "2        Private          Rural             105.92  32.5     never smoked   \n",
       "3        Private          Urban             171.23  34.4           smokes   \n",
       "4  Self-employed          Rural             174.12  24.0     never smoked   \n",
       "\n",
       "   stroke  \n",
       "0       1  \n",
       "1       1  \n",
       "2       1  \n",
       "3       1  \n",
       "4       1  "
      ]
     },
     "execution_count": 4,
     "metadata": {},
     "output_type": "execute_result"
    }
   ],
   "source": [
    "df.head()"
   ]
  },
  {
   "cell_type": "code",
   "execution_count": 5,
   "id": "8d886d00",
   "metadata": {},
   "outputs": [
    {
     "data": {
      "text/plain": [
       "(5110, 12)"
      ]
     },
     "execution_count": 5,
     "metadata": {},
     "output_type": "execute_result"
    }
   ],
   "source": [
    "df.shape"
   ]
  },
  {
   "cell_type": "code",
   "execution_count": 6,
   "id": "bd78b8b8",
   "metadata": {},
   "outputs": [],
   "source": [
    "# Get rid of the 'id' column\n",
    "df = df.drop('id', axis=1)"
   ]
  },
  {
   "cell_type": "code",
   "execution_count": 7,
   "id": "e0c5097e",
   "metadata": {},
   "outputs": [],
   "source": [
    "num_features = ['age', 'avg_glucose_level', 'bmi']\n",
    "cat_features = ['gender', 'hypertension', 'heart_disease', 'ever_married', 'work_type', 'Residence_type', 'smoking_status']"
   ]
  },
  {
   "cell_type": "code",
   "execution_count": 8,
   "id": "3fb5a652",
   "metadata": {},
   "outputs": [
    {
     "data": {
      "text/plain": [
       "gender                 0\n",
       "age                    0\n",
       "hypertension           0\n",
       "heart_disease          0\n",
       "ever_married           0\n",
       "work_type              0\n",
       "Residence_type         0\n",
       "avg_glucose_level      0\n",
       "bmi                  201\n",
       "smoking_status         0\n",
       "stroke                 0\n",
       "dtype: int64"
      ]
     },
     "execution_count": 8,
     "metadata": {},
     "output_type": "execute_result"
    }
   ],
   "source": [
    "df.isnull().sum()"
   ]
  },
  {
   "cell_type": "markdown",
   "id": "f70849cb",
   "metadata": {},
   "source": [
    "So, there is 201 NaN in 'bmi' column.  \n",
    "Let's see the distribution of stroke values among them."
   ]
  },
  {
   "cell_type": "code",
   "execution_count": 9,
   "id": "f64eea20",
   "metadata": {
    "scrolled": true
   },
   "outputs": [
    {
     "name": "stdout",
     "output_type": "stream",
     "text": [
      "Percentage of Stroke positive patients in patients whose bmi values are NaN:  19.9 %\n",
      "Percentage of Stroke positive pateints in the dataset:  4.87 %\n",
      "If we drop data with missing values in 'bmi' column, then we will lose  16.06 % of stroke positive data from the dataset\n"
     ]
    }
   ],
   "source": [
    "nan_str_pos = round(df[df.bmi.isnull()]['stroke'].value_counts()[1] / len(df[df.bmi.isnull()]) * 100, 2)\n",
    "total_str_pos = round(len(df[df['stroke']==1]) / len(df) * 100, 2)\n",
    "print(\"Percentage of Stroke positive patients in patients whose bmi values are NaN: \", nan_str_pos, \"%\")\n",
    "print(\"Percentage of Stroke positive pateints in the dataset: \", total_str_pos, \"%\")\n",
    "print(\"If we drop data with missing values in 'bmi' column, then we will lose \", round(df[df.bmi.isnull()]['stroke'].value_counts()[1]/len(df[df['stroke']==1]) * 100, 2), \"% of stroke positive data from the dataset\")"
   ]
  },
  {
   "cell_type": "markdown",
   "id": "5fc074c4",
   "metadata": {},
   "source": [
    "At first, I will drop rows with missing values in 'bmi' column and do the EDA.  \n",
    "Then, when I build classification models to predict stroke positive patients, I will use a regression model to  \n",
    "predict bmi values and use them as a true data.  \n",
    "This can make the classification models faulty, but in my opinion, the dataset is imbalanced data so  \n",
    "it seems reasonable to make the best use of every stroke positive patient data, even if those bmi data are predicted values."
   ]
  },
  {
   "cell_type": "code",
   "execution_count": 10,
   "id": "63b88e59",
   "metadata": {},
   "outputs": [],
   "source": [
    "# Let's make another dataframe for EDA\n",
    "df1 = df.dropna()"
   ]
  },
  {
   "cell_type": "markdown",
   "id": "e8fe1cf7",
   "metadata": {},
   "source": [
    "## Explorative Data Analysis"
   ]
  },
  {
   "cell_type": "markdown",
   "id": "5d2e2629",
   "metadata": {},
   "source": [
    "### Numeric features"
   ]
  },
  {
   "cell_type": "code",
   "execution_count": 11,
   "id": "6ee10100",
   "metadata": {
    "scrolled": true
   },
   "outputs": [
    {
     "data": {
      "text/html": [
       "<div>\n",
       "<style scoped>\n",
       "    .dataframe tbody tr th:only-of-type {\n",
       "        vertical-align: middle;\n",
       "    }\n",
       "\n",
       "    .dataframe tbody tr th {\n",
       "        vertical-align: top;\n",
       "    }\n",
       "\n",
       "    .dataframe thead th {\n",
       "        text-align: right;\n",
       "    }\n",
       "</style>\n",
       "<table border=\"1\" class=\"dataframe\">\n",
       "  <thead>\n",
       "    <tr style=\"text-align: right;\">\n",
       "      <th></th>\n",
       "      <th>age</th>\n",
       "      <th>avg_glucose_level</th>\n",
       "      <th>bmi</th>\n",
       "    </tr>\n",
       "  </thead>\n",
       "  <tbody>\n",
       "    <tr>\n",
       "      <th>count</th>\n",
       "      <td>5110.000000</td>\n",
       "      <td>5110.000000</td>\n",
       "      <td>4909.000000</td>\n",
       "    </tr>\n",
       "    <tr>\n",
       "      <th>mean</th>\n",
       "      <td>43.226614</td>\n",
       "      <td>106.147677</td>\n",
       "      <td>28.893237</td>\n",
       "    </tr>\n",
       "    <tr>\n",
       "      <th>std</th>\n",
       "      <td>22.612647</td>\n",
       "      <td>45.283560</td>\n",
       "      <td>7.854067</td>\n",
       "    </tr>\n",
       "    <tr>\n",
       "      <th>min</th>\n",
       "      <td>0.080000</td>\n",
       "      <td>55.120000</td>\n",
       "      <td>10.300000</td>\n",
       "    </tr>\n",
       "    <tr>\n",
       "      <th>25%</th>\n",
       "      <td>25.000000</td>\n",
       "      <td>77.245000</td>\n",
       "      <td>23.500000</td>\n",
       "    </tr>\n",
       "    <tr>\n",
       "      <th>50%</th>\n",
       "      <td>45.000000</td>\n",
       "      <td>91.885000</td>\n",
       "      <td>28.100000</td>\n",
       "    </tr>\n",
       "    <tr>\n",
       "      <th>75%</th>\n",
       "      <td>61.000000</td>\n",
       "      <td>114.090000</td>\n",
       "      <td>33.100000</td>\n",
       "    </tr>\n",
       "    <tr>\n",
       "      <th>max</th>\n",
       "      <td>82.000000</td>\n",
       "      <td>271.740000</td>\n",
       "      <td>97.600000</td>\n",
       "    </tr>\n",
       "  </tbody>\n",
       "</table>\n",
       "</div>"
      ],
      "text/plain": [
       "               age  avg_glucose_level          bmi\n",
       "count  5110.000000        5110.000000  4909.000000\n",
       "mean     43.226614         106.147677    28.893237\n",
       "std      22.612647          45.283560     7.854067\n",
       "min       0.080000          55.120000    10.300000\n",
       "25%      25.000000          77.245000    23.500000\n",
       "50%      45.000000          91.885000    28.100000\n",
       "75%      61.000000         114.090000    33.100000\n",
       "max      82.000000         271.740000    97.600000"
      ]
     },
     "execution_count": 11,
     "metadata": {},
     "output_type": "execute_result"
    }
   ],
   "source": [
    "df[num_features].describe()"
   ]
  },
  {
   "cell_type": "code",
   "execution_count": 12,
   "id": "2fdfd75c",
   "metadata": {},
   "outputs": [
    {
     "data": {
      "image/png": "[encoded data removed]",
      "text/plain": [
       "<Figure size 1800x1800 with 3 Axes>"
      ]
     },
     "metadata": {},
     "output_type": "display_data"
    }
   ],
   "source": [
    "fig = plt.figure(figsize=(12, 12), dpi=150, facecolor='#fafafa')\n",
    "gs = fig.add_gridspec(4, 3)\n",
    "gs.update(wspace=0.1, hspace=0.4)\n",
    "\n",
    "background_color = '#fffafa'\n",
    "\n",
    "plot = 0\n",
    "for row in range(0, 1):\n",
    "    for col in range(0, 3):\n",
    "        locals()[\"ax\"+str(plot)] = fig.add_subplot(gs[row, col])\n",
    "        locals()['ax'+str(plot)].set_facecolor(background_color)\n",
    "        locals()['ax'+str(plot)].tick_params(axis='y', left=False)\n",
    "        locals()['ax'+str(plot)].get_yaxis().set_visible(False)\n",
    "        for s in ['top', 'right', 'left']:\n",
    "            locals()['ax'+str(plot)].spines[s].set_visible(False)\n",
    "        plot += 1\n",
    "\n",
    "plot = 0\n",
    "\n",
    "for variable in num_features:\n",
    "    sns.kdeplot(df1[variable], ax=locals()['ax'+str(plot)], color='#dcd0ff', shade='fill', linewidth=1.5,\n",
    "               ec='black', alpha=0.5, zorder=3, legend=False)\n",
    "    locals()['ax'+str(plot)].grid(which='major', axis='x', zorder=0, color='gray', linestyle=':', dashes=(1, 5))\n",
    "    plot += 1\n",
    "    \n",
    "ax0.set_xlabel('Age')\n",
    "ax1.set_xlabel('Avg. Glucose Levels')\n",
    "ax2.set_xlabel('BMI')\n",
    "\n",
    "ax0.text(-20, 0.018, s=\"Numeric Variable Distribution\", fontsize=16, fontweight='bold', fontfamily='fantasy')\n",
    "plt.show()"
   ]
  },
  {
   "cell_type": "markdown",
   "id": "c5366d5a",
   "metadata": {},
   "source": [
    "We can see a positive skew in **BMI** and **Avg. Glucose Level**.  \n",
    "\n",
    "And **age** shows somewhat Guassian-like distribution."
   ]
  },
  {
   "cell_type": "markdown",
   "id": "d388efd1",
   "metadata": {},
   "source": [
    "See how the distribution of our numeric variables is different for those that have strokes, and those that do not."
   ]
  },
  {
   "cell_type": "code",
   "execution_count": 13,
   "id": "c588174a",
   "metadata": {
    "scrolled": true
   },
   "outputs": [
    {
     "data": {
      "image/png": "[encoded data removed]",
      "text/plain": [
       "<Figure size 1800x1800 with 3 Axes>"
      ]
     },
     "metadata": {},
     "output_type": "display_data"
    }
   ],
   "source": [
    "fig = plt.figure(figsize=(12, 12), dpi=150, facecolor='#fffafa')\n",
    "gs = fig.add_gridspec(4, 3)\n",
    "gs.update(wspace=0.1, hspace=0.4)\n",
    "\n",
    "background_color = '#fffafa'\n",
    "\n",
    "plot = 0\n",
    "for row in range(0, 1):\n",
    "    for col in range(0, 3):\n",
    "        locals()[\"ax\"+str(plot)] = fig.add_subplot(gs[row, col])\n",
    "        locals()['ax'+str(plot)].set_facecolor(background_color)\n",
    "        locals()['ax'+str(plot)].tick_params(axis='y', left=False)\n",
    "        locals()['ax'+str(plot)].get_yaxis().set_visible(False)\n",
    "        for s in ['top', 'right', 'left']:\n",
    "            locals()['ax'+str(plot)].spines[s].set_visible(False)\n",
    "        plot += 1\n",
    "\n",
    "\n",
    "st = df1[df1['stroke']==1]\n",
    "nst = df1[df1['stroke']==0]\n",
    "\n",
    "plot = 0\n",
    "for variable in num_features:\n",
    "    sns.kdeplot(st[variable], ax=locals()['ax'+str(plot)], color='#dcd0ff', shade='fill', linewidth=1.5, ec='black', alpha=0.5, \n",
    "               zorder=3, legend=False)\n",
    "    sns.kdeplot(nst[variable], ax=locals()['ax'+str(plot)], color='#9bb7d4', shade='fill', linewidth=1.5, ec='black', alpha=0.5,\n",
    "               zorder=3, legend=False)\n",
    "    locals()['ax'+str(plot)].grid(which='major', axis='x', zorder=0, color='gray', linestyle=':', dashes=(1, 5))\n",
    "    plot += 1\n",
    "    \n",
    "ax0.set_xlabel('Age')\n",
    "ax1.set_xlabel('Avg. Glucose Levels')\n",
    "ax2.set_xlabel('BMI')\n",
    "\n",
    "ax0.text(-20, 0.045, s=\"Numeric Variables by Stroke & No Stroke\", fontsize=16, fontweight='bold', fontfamily='fantasy')\n",
    "plt.show()"
   ]
  },
  {
   "cell_type": "markdown",
   "id": "60474ce2",
   "metadata": {},
   "source": [
    "**Age** looks to be a prominent factor - this will likely be a salient feature in our models"
   ]
  },
  {
   "cell_type": "markdown",
   "id": "3d4da2d3",
   "metadata": {},
   "source": [
    "### Categorical Features"
   ]
  },
  {
   "cell_type": "code",
   "execution_count": 14,
   "id": "9abe68eb",
   "metadata": {},
   "outputs": [
    {
     "data": {
      "text/html": [
       "<div>\n",
       "<style scoped>\n",
       "    .dataframe tbody tr th:only-of-type {\n",
       "        vertical-align: middle;\n",
       "    }\n",
       "\n",
       "    .dataframe tbody tr th {\n",
       "        vertical-align: top;\n",
       "    }\n",
       "\n",
       "    .dataframe thead th {\n",
       "        text-align: right;\n",
       "    }\n",
       "</style>\n",
       "<table border=\"1\" class=\"dataframe\">\n",
       "  <thead>\n",
       "    <tr style=\"text-align: right;\">\n",
       "      <th></th>\n",
       "      <th>Variable</th>\n",
       "      <th>Outcome</th>\n",
       "      <th>Count</th>\n",
       "      <th>Percent</th>\n",
       "    </tr>\n",
       "  </thead>\n",
       "  <tbody>\n",
       "    <tr>\n",
       "      <th>0</th>\n",
       "      <td>gender</td>\n",
       "      <td>Female</td>\n",
       "      <td>2897</td>\n",
       "      <td>59.01</td>\n",
       "    </tr>\n",
       "    <tr>\n",
       "      <th>1</th>\n",
       "      <td></td>\n",
       "      <td>Male</td>\n",
       "      <td>2011</td>\n",
       "      <td>40.97</td>\n",
       "    </tr>\n",
       "    <tr>\n",
       "      <th>2</th>\n",
       "      <td></td>\n",
       "      <td>Other</td>\n",
       "      <td>1</td>\n",
       "      <td>0.02</td>\n",
       "    </tr>\n",
       "    <tr>\n",
       "      <th>3</th>\n",
       "      <td>hypertension</td>\n",
       "      <td>0</td>\n",
       "      <td>4458</td>\n",
       "      <td>90.81</td>\n",
       "    </tr>\n",
       "    <tr>\n",
       "      <th>4</th>\n",
       "      <td></td>\n",
       "      <td>1</td>\n",
       "      <td>451</td>\n",
       "      <td>9.19</td>\n",
       "    </tr>\n",
       "    <tr>\n",
       "      <th>5</th>\n",
       "      <td>heart_disease</td>\n",
       "      <td>0</td>\n",
       "      <td>4666</td>\n",
       "      <td>95.05</td>\n",
       "    </tr>\n",
       "    <tr>\n",
       "      <th>6</th>\n",
       "      <td></td>\n",
       "      <td>1</td>\n",
       "      <td>243</td>\n",
       "      <td>4.95</td>\n",
       "    </tr>\n",
       "    <tr>\n",
       "      <th>7</th>\n",
       "      <td>ever_married</td>\n",
       "      <td>Yes</td>\n",
       "      <td>3204</td>\n",
       "      <td>65.27</td>\n",
       "    </tr>\n",
       "    <tr>\n",
       "      <th>8</th>\n",
       "      <td></td>\n",
       "      <td>No</td>\n",
       "      <td>1705</td>\n",
       "      <td>34.73</td>\n",
       "    </tr>\n",
       "    <tr>\n",
       "      <th>9</th>\n",
       "      <td>work_type</td>\n",
       "      <td>Private</td>\n",
       "      <td>2811</td>\n",
       "      <td>57.26</td>\n",
       "    </tr>\n",
       "    <tr>\n",
       "      <th>10</th>\n",
       "      <td></td>\n",
       "      <td>Self-employed</td>\n",
       "      <td>775</td>\n",
       "      <td>15.79</td>\n",
       "    </tr>\n",
       "    <tr>\n",
       "      <th>11</th>\n",
       "      <td></td>\n",
       "      <td>children</td>\n",
       "      <td>671</td>\n",
       "      <td>13.67</td>\n",
       "    </tr>\n",
       "    <tr>\n",
       "      <th>12</th>\n",
       "      <td></td>\n",
       "      <td>Govt_job</td>\n",
       "      <td>630</td>\n",
       "      <td>12.83</td>\n",
       "    </tr>\n",
       "    <tr>\n",
       "      <th>13</th>\n",
       "      <td></td>\n",
       "      <td>Never_worked</td>\n",
       "      <td>22</td>\n",
       "      <td>0.45</td>\n",
       "    </tr>\n",
       "    <tr>\n",
       "      <th>14</th>\n",
       "      <td>Residence_type</td>\n",
       "      <td>Urban</td>\n",
       "      <td>2490</td>\n",
       "      <td>50.72</td>\n",
       "    </tr>\n",
       "    <tr>\n",
       "      <th>15</th>\n",
       "      <td></td>\n",
       "      <td>Rural</td>\n",
       "      <td>2419</td>\n",
       "      <td>49.28</td>\n",
       "    </tr>\n",
       "    <tr>\n",
       "      <th>16</th>\n",
       "      <td>smoking_status</td>\n",
       "      <td>never smoked</td>\n",
       "      <td>1852</td>\n",
       "      <td>37.73</td>\n",
       "    </tr>\n",
       "    <tr>\n",
       "      <th>17</th>\n",
       "      <td></td>\n",
       "      <td>Unknown</td>\n",
       "      <td>1483</td>\n",
       "      <td>30.21</td>\n",
       "    </tr>\n",
       "    <tr>\n",
       "      <th>18</th>\n",
       "      <td></td>\n",
       "      <td>formerly smoked</td>\n",
       "      <td>837</td>\n",
       "      <td>17.05</td>\n",
       "    </tr>\n",
       "    <tr>\n",
       "      <th>19</th>\n",
       "      <td></td>\n",
       "      <td>smokes</td>\n",
       "      <td>737</td>\n",
       "      <td>15.01</td>\n",
       "    </tr>\n",
       "  </tbody>\n",
       "</table>\n",
       "</div>"
      ],
      "text/plain": [
       "          Variable          Outcome  Count  Percent\n",
       "0           gender           Female   2897    59.01\n",
       "1                              Male   2011    40.97\n",
       "2                             Other      1     0.02\n",
       "3     hypertension                0   4458    90.81\n",
       "4                                 1    451     9.19\n",
       "5    heart_disease                0   4666    95.05\n",
       "6                                 1    243     4.95\n",
       "7     ever_married              Yes   3204    65.27\n",
       "8                                No   1705    34.73\n",
       "9        work_type          Private   2811    57.26\n",
       "10                    Self-employed    775    15.79\n",
       "11                         children    671    13.67\n",
       "12                         Govt_job    630    12.83\n",
       "13                     Never_worked     22     0.45\n",
       "14  Residence_type            Urban   2490    50.72\n",
       "15                            Rural   2419    49.28\n",
       "16  smoking_status     never smoked   1852    37.73\n",
       "17                          Unknown   1483    30.21\n",
       "18                  formerly smoked    837    17.05\n",
       "19                           smokes    737    15.01"
      ]
     },
     "execution_count": 14,
     "metadata": {},
     "output_type": "execute_result"
    }
   ],
   "source": [
    "rp.summary_cat(df1[cat_features])"
   ]
  },
  {
   "cell_type": "markdown",
   "id": "49b864d5",
   "metadata": {},
   "source": [
    "There is single 'Other' value in 'gender' column.  \n",
    "So drop it."
   ]
  },
  {
   "cell_type": "code",
   "execution_count": 15,
   "id": "c2a2a947",
   "metadata": {},
   "outputs": [],
   "source": [
    "df1 = df1[df1.gender!='Other']"
   ]
  },
  {
   "cell_type": "code",
   "execution_count": 16,
   "id": "c534b4b5",
   "metadata": {},
   "outputs": [
    {
     "data": {
      "text/plain": [
       "'smoking_status'"
      ]
     },
     "execution_count": 16,
     "metadata": {},
     "output_type": "execute_result"
    }
   ],
   "source": [
    "'gender', 'ever_married', 'work_type', 'Residence_type'\n",
    "'hypertension', 'heart_disease'\n",
    "'smoking_status'"
   ]
  },
  {
   "cell_type": "code",
   "execution_count": 17,
   "id": "c00ef064",
   "metadata": {},
   "outputs": [
    {
     "data": {
      "image/png": "[encoded data removed]",
      "text/plain": [
       "<Figure size 1584x1080 with 8 Axes>"
      ]
     },
     "metadata": {},
     "output_type": "display_data"
    }
   ],
   "source": [
    "fig = plt.figure(figsize=(22, 15))\n",
    "gs = fig.add_gridspec(2, 4)\n",
    "gs.update(wspace=0.35, hspace=0.27)\n",
    "plot = 0\n",
    "for i in range(2):\n",
    "    for j in range(4):\n",
    "        locals()['ax'+str(plot)] = fig.add_subplot(gs[i, j])\n",
    "        plot += 1\n",
    "\n",
    "background_color = '#f6f6f6'\n",
    "fig.patch.set_facecolor(background_color) # figure background color\n",
    "\n",
    "# Plots\n",
    "str_only = df1[df1.stroke==1]\n",
    "no_str_only = df1[df1.stroke==0]\n",
    "\n",
    "# ax0 : Title\n",
    "\n",
    "ax0.spines['bottom'].set_visible(False)\n",
    "ax0.tick_params(left=False, bottom=False)\n",
    "ax0.set_xticklabels([])\n",
    "ax0.set_yticklabels([])\n",
    "ax0.text(0.5, 0.6, \"Can we see patterns in\\n\\n categorical data between\\n\\nstroke & non-stroke groups?\", ha='center', va='center',\n",
    "        fontsize=20, fontweight='bold', fontfamily='serif', color='#323232')\n",
    "\n",
    "\n",
    "# Gender\n",
    "\n",
    "positive = pd.DataFrame(str_only.gender.value_counts())\n",
    "negative = pd.DataFrame(no_str_only.gender.value_counts())\n",
    "positive['Percentage'] = positive.gender.apply(lambda x: x/positive.gender.sum()*100)\n",
    "negative['Percentage'] = negative.gender.apply(lambda x: x/negative.gender.sum()*100)\n",
    "\n",
    "x = np.arange(len(positive))\n",
    "ax1.bar(x, height=positive.Percentage, zorder=3, color='#dcd0ff', width=0.4)\n",
    "ax1.bar(x+0.4, height=negative.Percentage, zorder=3, color='#9bb7d4', width=0.4)\n",
    "ax1.set_xticks(x + 0.4 / 2)\n",
    "ax1.set_xticklabels(['Male', 'Female'])\n",
    "ax1.yaxis.set_major_formatter(mtick.PercentFormatter())\n",
    "ax1.yaxis.set_major_locator(mtick.MultipleLocator(10))\n",
    "ax1.grid(color='gray', linestyle=':', axis='y', zorder=0, dashes=(1, 5))\n",
    "for i, j in zip([0, 1], positive.Percentage):\n",
    "    ax1.annotate(text=f\"{j:0.0f}%\", xy=(i, j/2), ha='center', va='center', color='#323232')\n",
    "for i, j in zip([0, 1], negative.Percentage):\n",
    "    ax1.annotate(text=f\"{j:0.0f}%\", xy=(i+0.4, j/2), ha='center', va='center', color='#323232')\n",
    "ax1.text(-0.3, 68, \"Gender\", fontsize=14, fontweight='bold', fontfamily='serif', color='#323232')\n",
    "\n",
    "# Ever-married\n",
    "\n",
    "positive = pd.DataFrame(str_only.ever_married.value_counts())\n",
    "positive['Percentage'] = positive.ever_married.apply(lambda x: x/positive.ever_married.sum() * 100)\n",
    "negative = pd.DataFrame(no_str_only.ever_married.value_counts())\n",
    "negative['Percentage'] = negative.ever_married.apply(lambda x: x/negative.ever_married.sum() * 100)\n",
    "x = np.arange(len(positive))\n",
    "ax2.bar(x, height=positive.Percentage, zorder=3, color='#dcd0ff', width=0.4)\n",
    "ax2.bar(x+0.4, height=negative.Percentage, zorder=3, color='#9bb7d4', width=0.4)\n",
    "ax2.set_xticks(x + 0.4 / 2)\n",
    "ax2.set_xticklabels(['Yes', 'No'])\n",
    "ax2.yaxis.set_major_formatter(mtick.PercentFormatter())\n",
    "ax2.yaxis.set_major_locator(mtick.MultipleLocator(10))\n",
    "ax2.grid(axis='y', color='gray', linestyle=':', dashes=(1, 5), zorder=0)\n",
    "for i, j in zip(x, positive.Percentage):\n",
    "    ax2.annotate(text=f\"{j:0.0f}%\", xy=(i, j/2), ha='center', va='center', color='#323232')\n",
    "for i, j in zip(x, negative.Percentage):\n",
    "    ax2.annotate(text=f\"{j:0.0f}%\", xy=(i + 0.4, j/2), ha='center', va='center', color='#323232')\n",
    "ax2.text(-0.3, 102.5, \"Ever-married\", fontfamily='serif', fontsize=14, fontweight='bold', color='#323232')\n",
    "\n",
    "\n",
    "# Work Type\n",
    "\n",
    "negative = pd.DataFrame(no_str_only.work_type.value_counts())\n",
    "negative['Percentage'] = negative.work_type.apply(lambda x: x/sum(negative.work_type) * 100)\n",
    "negative = negative.sort_index()\n",
    "\n",
    "positive = pd.DataFrame(str_only.work_type.value_counts())\n",
    "positive['Percentage'] = positive.work_type.apply(lambda x: x/sum(positive.work_type) * 100)\n",
    "\n",
    "no_val_idx = [i for i in negative.index if i not in positive.index]\n",
    "\n",
    "for idx in no_val_idx:\n",
    "    positive = pd.concat([positive, pd.DataFrame([[0, 0]], columns=['Percentage', 'work_type'], index=[idx])])\n",
    "positive = positive.sort_index()\n",
    "\n",
    "ax3.grid(color='gray', linestyle=':', axis='y', zorder=0, dashes=(1, 5))\n",
    "ax3.bar(negative.index, height=negative.Percentage, zorder=3, color='#dcd0ff', width=0.05)\n",
    "ax3.scatter(negative.index, negative.Percentage, zorder=3, s=150, color='#dcd0ff')\n",
    "ax3.bar(np.arange(len(positive.index))+0.4, height=positive.Percentage, zorder=3, color='#9bb7d4', width=0.05)\n",
    "ax3.scatter(np.arange(len(positive.index))+0.4, y=positive.Percentage, zorder=3, s=150, color='#9bb7d4')\n",
    "\n",
    "ax3.yaxis.set_major_formatter(mtick.PercentFormatter())\n",
    "ax3.yaxis.set_major_locator(mtick.MultipleLocator(10))\n",
    "ax3.set_xticks(np.arange(len(positive.index))+0.2)\n",
    "ax3.tick_params(axis='x', rotation=20)\n",
    "ax3.text(-0.5, 70, \"Work Type\", fontfamily='serif', fontsize=14, fontweight='bold', color='#323232')\n",
    "\n",
    "\n",
    "# Residence type\n",
    "\n",
    "positive = pd.DataFrame(str_only.Residence_type.value_counts())\n",
    "negative = pd.DataFrame(no_str_only.Residence_type.value_counts())\n",
    "positive['Percentage'] = positive.Residence_type.apply(lambda x: x/positive.Residence_type.sum() * 100)\n",
    "negative['Percentage'] = negative.Residence_type.apply(lambda x: x/negative.Residence_type.sum() * 100)\n",
    "\n",
    "x = np.arange(len(positive))\n",
    "ax4.grid(axis='y', color='gray', linestyle=':', zorder=0, dashes=(1, 5))\n",
    "ax4.bar(x, height=positive.Percentage, zorder=3, width=0.4, color='#dcd0ff')\n",
    "ax4.bar(x+0.4, height=negative.Percentage, zorder=3, width=0.4, color='#9bb7d4')\n",
    "ax4.yaxis.set_major_formatter(mtick.PercentFormatter())\n",
    "ax4.yaxis.set_major_locator(mtick.MultipleLocator(10))\n",
    "ax4.set_xticks(x + 0.4 / 2)\n",
    "ax4.set_xticklabels(['Urban', 'Rural'])\n",
    "for i, j in zip(x, positive.Percentage):\n",
    "    ax4.annotate(f\"{j:0.0f}%\", xy=(i, j/2), color='black', ha='center', va='center')\n",
    "for i, j in zip(x, negative.Percentage):\n",
    "    ax4.annotate(f\"{j:0.0f}%\", xy=(i+0.4, j/2), color='black', ha='center', va='center')\n",
    "ax4.text(-0.3, 60, \"Residenct Type\", fontfamily='serif', fontsize=14, fontweight='bold', color='#323232')\n",
    "\n",
    "# hypertension\n",
    "\n",
    "positive = pd.DataFrame(str_only.hypertension.value_counts())\n",
    "positive['Percentage'] = positive.hypertension.apply(lambda x: x/sum(positive.hypertension) * 100)\n",
    "negative = pd.DataFrame(no_str_only.hypertension.value_counts())\n",
    "negative['Percentage'] = negative.hypertension.apply(lambda x: x/sum(negative.hypertension) * 100)\n",
    "\n",
    "x = np.arange(len(positive))\n",
    "ax5.grid(color='gray', linestyle=':', axis='y', zorder=0, dashes=(1, 5))\n",
    "ax5.bar(x, positive.Percentage, width=0.4, color='#dcd0ff')\n",
    "ax5.bar(x+0.4, negative.Percentage, width=0.4, color='#9bb7d4')\n",
    "ax5.set_xticks(x + 0.4 / 2)\n",
    "ax5.set_xticklabels(['No History', 'History'])\n",
    "ax5.yaxis.set_major_formatter(mtick.PercentFormatter())\n",
    "ax5.yaxis.set_major_locator(mtick.MultipleLocator(20))\n",
    "\n",
    "for i, j in zip(x, positive.Percentage):\n",
    "    ax5.annotate(f'{j:0.0f}%', xy=(i, j/2), color='#323232', ha='center', va='center')\n",
    "for i, j in zip(x + 0.4, negative.Percentage):\n",
    "    ax5.annotate(f\"{j:0.0f}%\", xy=(i, j/2), color='#323232', ha='center', va='center')\n",
    "\n",
    "ax5.text(-0.3, 105, \"Hypertension\", fontfamily='serif', fontweight='bold', fontsize=14, color='#323232')\n",
    "    \n",
    "\n",
    "# Heart Disease\n",
    "\n",
    "positive = pd.DataFrame(str_only.heart_disease.value_counts())\n",
    "positive['Percentage'] = positive.heart_disease.apply(lambda x: x/positive.heart_disease.sum()*100)\n",
    "negative = pd.DataFrame(no_str_only.heart_disease.value_counts())\n",
    "negative['Percentage'] = negative.heart_disease.apply(lambda x: x/negative.heart_disease.sum()*100)\n",
    "\n",
    "x = np.arange(len(positive))\n",
    "ax6.bar(x, height=positive.Percentage, zorder=3, color='#dcd0ff', width=0.4)\n",
    "ax6.bar(x+0.4, height=negative.Percentage, zorder=3, color='#9bb7d4', width=0.4)\n",
    "ax6.set_xticks(x + 0.4 / 2)\n",
    "ax6.set_xticklabels(['No History', 'History'])\n",
    "ax6.grid(color='gray', axis='y', linestyle=':', zorder=0, dashes=(1, 5))\n",
    "ax6.yaxis.set_major_formatter(mtick.PercentFormatter())\n",
    "ax6.yaxis.set_major_locator(mtick.MultipleLocator(20))\n",
    "for i, j in zip([0, 1], positive.Percentage):\n",
    "    ax6.annotate(text=f\"{j:0.0f}%\", xy=(i, j/2), ha='center', va='center', color='#323232')\n",
    "for i, j in zip([0, 1], negative.Percentage):\n",
    "    ax6.annotate(text=f\"{j:0.0f}%\", xy=(i+0.4, j/2), ha='center', va='center', color='#323232')\n",
    "ax6.text(-0.3, 110, \"Heart Disease\", fontsize=14, fontfamily='serif', fontweight='bold', color='#323232')\n",
    "    \n",
    "\n",
    "# Smoking\n",
    "positive = pd.DataFrame(str_only.smoking_status.value_counts())\n",
    "negative = pd.DataFrame(no_str_only.smoking_status.value_counts())\n",
    "positive['Percentage'] = positive.smoking_status.apply(lambda x: x/positive.smoking_status.sum()*100)\n",
    "negative['Percentage'] = negative.smoking_status.apply(lambda x: x/negative.smoking_status.sum()*100)\n",
    "\n",
    "ax7.barh(positive.index, positive.Percentage, color='#dcd0ff', ec='black', zorder=3, height=0.7)\n",
    "ax7.barh(negative.index, negative.Percentage, color='#9bb7d4', zorder=3, ec='black', height=0.3)\n",
    "ax7.xaxis.set_major_formatter(mtick.PercentFormatter())\n",
    "ax7.xaxis.set_major_locator(mtick.MultipleLocator(10))\n",
    "\n",
    "ax7.text(0, 4, \"Smoking Status\", fontsize=14, fontweight='bold', fontfamily='serif', color='#323232')\n",
    "\n",
    "for s in ['top', 'right', 'left']:\n",
    "    for i in range(0, 8):\n",
    "        locals()['ax'+str(i)].spines[s].set_visible(False)\n",
    "        locals()['ax'+str(i)].set_facecolor(background_color)\n",
    "        locals()['ax'+str(i)].tick_params(length=0)\n",
    "    \n",
    "plt.show()"
   ]
  },
  {
   "cell_type": "markdown",
   "id": "718b9f08",
   "metadata": {},
   "source": [
    "**Ever_married** column data show there is difference in ratio between stroke and non-stroke group.  \n",
    "**Hypertension** and **Heart Disease** column data also show differences in ratio between stroke and non-stroke group and it seems the bar plots of two features quite resemble.  \n",
    "**Smoking status** column data show that there are more stroke positive patients in formerly-smoked and currently-smokes groups."
   ]
  },
  {
   "cell_type": "code",
   "execution_count": null,
   "id": "3ab5aae7",
   "metadata": {},
   "outputs": [],
   "source": []
  },
  {
   "cell_type": "markdown",
   "id": "44c69cad",
   "metadata": {},
   "source": [
    "### Make new features"
   ]
  },
  {
   "cell_type": "markdown",
   "id": "c0f8a509",
   "metadata": {},
   "source": [
    "**age bins**"
   ]
  },
  {
   "cell_type": "code",
   "execution_count": 18,
   "id": "94a79ece",
   "metadata": {},
   "outputs": [],
   "source": [
    "df['age_bin'] = pd.cut(x=df.age, bins=[0, 10, 20, 40, 60, 80, 100], labels=['0-10', '10-20', '20-40', '40-60', '60-80', '80-100'])"
   ]
  },
  {
   "cell_type": "code",
   "execution_count": 19,
   "id": "c95888eb",
   "metadata": {},
   "outputs": [
    {
     "data": {
      "image/png": "[encoded data removed]",
      "text/plain": [
       "<Figure size 432x288 with 1 Axes>"
      ]
     },
     "metadata": {
      "needs_background": "light"
     },
     "output_type": "display_data"
    }
   ],
   "source": [
    "sns.countplot('age_bin', hue='stroke', data=df, palette=['#9bb7d4', '#dcd0ff']);"
   ]
  },
  {
   "cell_type": "markdown",
   "id": "b3c24ae2",
   "metadata": {},
   "source": [
    "**bmi groups**"
   ]
  },
  {
   "cell_type": "code",
   "execution_count": 20,
   "id": "a4109299",
   "metadata": {},
   "outputs": [
    {
     "data": {
      "text/plain": [
       "28.893236911794666"
      ]
     },
     "execution_count": 20,
     "metadata": {},
     "output_type": "execute_result"
    }
   ],
   "source": [
    "df.bmi.mean()"
   ]
  },
  {
   "cell_type": "markdown",
   "id": "41cd7c8a",
   "metadata": {},
   "source": [
    "As the mean value of BMI is 28.9 and BMI over or equal to 30 is considered as obese,  \n",
    "I decided to split BMI data into 2 groups(less than 30 (not obese) and over or equal to 30(obese))."
   ]
  },
  {
   "cell_type": "code",
   "execution_count": 21,
   "id": "81188c0c",
   "metadata": {},
   "outputs": [],
   "source": [
    "bmi_map = lambda x: 1 if x>=30 else 0\n",
    "df['bmi_group'] = df.bmi.apply(bmi_map)"
   ]
  },
  {
   "cell_type": "code",
   "execution_count": 22,
   "id": "8e1e82f8",
   "metadata": {},
   "outputs": [
    {
     "data": {
      "image/png": "[encoded data removed]",
      "text/plain": [
       "<Figure size 432x288 with 1 Axes>"
      ]
     },
     "metadata": {
      "needs_background": "light"
     },
     "output_type": "display_data"
    }
   ],
   "source": [
    "sns.countplot(df.bmi_group, palette=['#9bb7d4', '#dcd0ff'])\n",
    "plt.xticks(ticks=[0, 1], labels=['Not Obese', 'Obese']);"
   ]
  },
  {
   "cell_type": "markdown",
   "id": "8f667161",
   "metadata": {},
   "source": [
    "**glucose groups**"
   ]
  },
  {
   "cell_type": "markdown",
   "id": "f56e2208",
   "metadata": {},
   "source": [
    "It is considered as suggestive of type 2 diabetes when random blood sugar test result shows  \n",
    "blood sugar level of 200 milligrams per deciliter (mg/dL) or higher."
   ]
  },
  {
   "cell_type": "code",
   "execution_count": 23,
   "id": "9b128d7c",
   "metadata": {},
   "outputs": [],
   "source": [
    "glc_map = lambda x: 1 if x>=200 else 0\n",
    "df['glc_group'] = df.avg_glucose_level.apply(glc_map)"
   ]
  },
  {
   "cell_type": "code",
   "execution_count": 24,
   "id": "d72fff93",
   "metadata": {},
   "outputs": [
    {
     "data": {
      "image/png": "[encoded data removed]",
      "text/plain": [
       "<Figure size 432x288 with 1 Axes>"
      ]
     },
     "metadata": {
      "needs_background": "light"
     },
     "output_type": "display_data"
    }
   ],
   "source": [
    "sns.countplot(df.glc_group, palette=['#9bb7d4', '#dcd0ff'])\n",
    "plt.xticks(ticks=[0, 1], labels=['Low Glucose', 'High Glucose']);"
   ]
  },
  {
   "cell_type": "code",
   "execution_count": null,
   "id": "ac39d644",
   "metadata": {},
   "outputs": [],
   "source": []
  },
  {
   "cell_type": "markdown",
   "id": "174995c9",
   "metadata": {},
   "source": [
    "### Data cleaning and using RandomForestRegressor to predict the missing values in BMI column"
   ]
  },
  {
   "cell_type": "code",
   "execution_count": 25,
   "id": "a9c01d4a",
   "metadata": {},
   "outputs": [],
   "source": [
    "data = df.copy()"
   ]
  },
  {
   "cell_type": "code",
   "execution_count": 26,
   "id": "fc32b697",
   "metadata": {
    "scrolled": true
   },
   "outputs": [
    {
     "data": {
      "text/plain": [
       "gender                 0\n",
       "age                    0\n",
       "hypertension           0\n",
       "heart_disease          0\n",
       "ever_married           0\n",
       "work_type              0\n",
       "Residence_type         0\n",
       "avg_glucose_level      0\n",
       "bmi                  201\n",
       "smoking_status         0\n",
       "stroke                 0\n",
       "age_bin                0\n",
       "bmi_group              0\n",
       "glc_group              0\n",
       "dtype: int64"
      ]
     },
     "execution_count": 26,
     "metadata": {},
     "output_type": "execute_result"
    }
   ],
   "source": [
    "data.isnull().sum()"
   ]
  },
  {
   "cell_type": "code",
   "execution_count": 27,
   "id": "730b8c1e",
   "metadata": {},
   "outputs": [],
   "source": [
    "from sklearn.preprocessing import LabelEncoder, OneHotEncoder"
   ]
  },
  {
   "cell_type": "code",
   "execution_count": 28,
   "id": "ed4e302b",
   "metadata": {},
   "outputs": [],
   "source": [
    "le = LabelEncoder()"
   ]
  },
  {
   "cell_type": "code",
   "execution_count": 29,
   "id": "f0fc0579",
   "metadata": {},
   "outputs": [],
   "source": [
    "data = data[data.gender != 'Other'].reset_index(drop=True)\n",
    "data.gender = data.gender.map({'Male': 0, 'Female': 1}).astype('int')\n",
    "data.ever_married = data.ever_married.map({'Yes': 1, 'No': 0}).astype('int')\n",
    "data.Residence_type = data.Residence_type.map({'Urban': 1, 'Rural': 0}).astype('int')\n",
    "data.work_type = le.fit_transform(data.work_type)\n",
    "data.smoking_status = data.smoking_status.map({'never smoked':0, 'formerly smoked':1, 'smokes':2, 'Unknown':3}).astype('int')\n",
    "data.age_bin = le.fit_transform(data.age_bin)"
   ]
  },
  {
   "cell_type": "code",
   "execution_count": 30,
   "id": "b140b372",
   "metadata": {},
   "outputs": [
    {
     "data": {
      "text/html": [
       "<div>\n",
       "<style scoped>\n",
       "    .dataframe tbody tr th:only-of-type {\n",
       "        vertical-align: middle;\n",
       "    }\n",
       "\n",
       "    .dataframe tbody tr th {\n",
       "        vertical-align: top;\n",
       "    }\n",
       "\n",
       "    .dataframe thead th {\n",
       "        text-align: right;\n",
       "    }\n",
       "</style>\n",
       "<table border=\"1\" class=\"dataframe\">\n",
       "  <thead>\n",
       "    <tr style=\"text-align: right;\">\n",
       "      <th></th>\n",
       "      <th>gender</th>\n",
       "      <th>age</th>\n",
       "      <th>hypertension</th>\n",
       "      <th>heart_disease</th>\n",
       "      <th>ever_married</th>\n",
       "      <th>work_type</th>\n",
       "      <th>Residence_type</th>\n",
       "      <th>avg_glucose_level</th>\n",
       "      <th>bmi</th>\n",
       "      <th>smoking_status</th>\n",
       "      <th>stroke</th>\n",
       "      <th>age_bin</th>\n",
       "      <th>bmi_group</th>\n",
       "      <th>glc_group</th>\n",
       "    </tr>\n",
       "  </thead>\n",
       "  <tbody>\n",
       "    <tr>\n",
       "      <th>0</th>\n",
       "      <td>0</td>\n",
       "      <td>67.0</td>\n",
       "      <td>0</td>\n",
       "      <td>1</td>\n",
       "      <td>1</td>\n",
       "      <td>2</td>\n",
       "      <td>1</td>\n",
       "      <td>228.69</td>\n",
       "      <td>36.6</td>\n",
       "      <td>1</td>\n",
       "      <td>1</td>\n",
       "      <td>4</td>\n",
       "      <td>1</td>\n",
       "      <td>1</td>\n",
       "    </tr>\n",
       "    <tr>\n",
       "      <th>1</th>\n",
       "      <td>1</td>\n",
       "      <td>61.0</td>\n",
       "      <td>0</td>\n",
       "      <td>0</td>\n",
       "      <td>1</td>\n",
       "      <td>3</td>\n",
       "      <td>0</td>\n",
       "      <td>202.21</td>\n",
       "      <td>NaN</td>\n",
       "      <td>0</td>\n",
       "      <td>1</td>\n",
       "      <td>4</td>\n",
       "      <td>0</td>\n",
       "      <td>1</td>\n",
       "    </tr>\n",
       "    <tr>\n",
       "      <th>2</th>\n",
       "      <td>0</td>\n",
       "      <td>80.0</td>\n",
       "      <td>0</td>\n",
       "      <td>1</td>\n",
       "      <td>1</td>\n",
       "      <td>2</td>\n",
       "      <td>0</td>\n",
       "      <td>105.92</td>\n",
       "      <td>32.5</td>\n",
       "      <td>0</td>\n",
       "      <td>1</td>\n",
       "      <td>4</td>\n",
       "      <td>1</td>\n",
       "      <td>0</td>\n",
       "    </tr>\n",
       "    <tr>\n",
       "      <th>3</th>\n",
       "      <td>1</td>\n",
       "      <td>49.0</td>\n",
       "      <td>0</td>\n",
       "      <td>0</td>\n",
       "      <td>1</td>\n",
       "      <td>2</td>\n",
       "      <td>1</td>\n",
       "      <td>171.23</td>\n",
       "      <td>34.4</td>\n",
       "      <td>2</td>\n",
       "      <td>1</td>\n",
       "      <td>3</td>\n",
       "      <td>1</td>\n",
       "      <td>0</td>\n",
       "    </tr>\n",
       "    <tr>\n",
       "      <th>4</th>\n",
       "      <td>1</td>\n",
       "      <td>79.0</td>\n",
       "      <td>1</td>\n",
       "      <td>0</td>\n",
       "      <td>1</td>\n",
       "      <td>3</td>\n",
       "      <td>0</td>\n",
       "      <td>174.12</td>\n",
       "      <td>24.0</td>\n",
       "      <td>0</td>\n",
       "      <td>1</td>\n",
       "      <td>4</td>\n",
       "      <td>0</td>\n",
       "      <td>0</td>\n",
       "    </tr>\n",
       "    <tr>\n",
       "      <th>...</th>\n",
       "      <td>...</td>\n",
       "      <td>...</td>\n",
       "      <td>...</td>\n",
       "      <td>...</td>\n",
       "      <td>...</td>\n",
       "      <td>...</td>\n",
       "      <td>...</td>\n",
       "      <td>...</td>\n",
       "      <td>...</td>\n",
       "      <td>...</td>\n",
       "      <td>...</td>\n",
       "      <td>...</td>\n",
       "      <td>...</td>\n",
       "      <td>...</td>\n",
       "    </tr>\n",
       "    <tr>\n",
       "      <th>5104</th>\n",
       "      <td>1</td>\n",
       "      <td>80.0</td>\n",
       "      <td>1</td>\n",
       "      <td>0</td>\n",
       "      <td>1</td>\n",
       "      <td>2</td>\n",
       "      <td>1</td>\n",
       "      <td>83.75</td>\n",
       "      <td>NaN</td>\n",
       "      <td>0</td>\n",
       "      <td>0</td>\n",
       "      <td>4</td>\n",
       "      <td>0</td>\n",
       "      <td>0</td>\n",
       "    </tr>\n",
       "    <tr>\n",
       "      <th>5105</th>\n",
       "      <td>1</td>\n",
       "      <td>81.0</td>\n",
       "      <td>0</td>\n",
       "      <td>0</td>\n",
       "      <td>1</td>\n",
       "      <td>3</td>\n",
       "      <td>1</td>\n",
       "      <td>125.20</td>\n",
       "      <td>40.0</td>\n",
       "      <td>0</td>\n",
       "      <td>0</td>\n",
       "      <td>5</td>\n",
       "      <td>1</td>\n",
       "      <td>0</td>\n",
       "    </tr>\n",
       "    <tr>\n",
       "      <th>5106</th>\n",
       "      <td>1</td>\n",
       "      <td>35.0</td>\n",
       "      <td>0</td>\n",
       "      <td>0</td>\n",
       "      <td>1</td>\n",
       "      <td>3</td>\n",
       "      <td>0</td>\n",
       "      <td>82.99</td>\n",
       "      <td>30.6</td>\n",
       "      <td>0</td>\n",
       "      <td>0</td>\n",
       "      <td>2</td>\n",
       "      <td>1</td>\n",
       "      <td>0</td>\n",
       "    </tr>\n",
       "    <tr>\n",
       "      <th>5107</th>\n",
       "      <td>0</td>\n",
       "      <td>51.0</td>\n",
       "      <td>0</td>\n",
       "      <td>0</td>\n",
       "      <td>1</td>\n",
       "      <td>2</td>\n",
       "      <td>0</td>\n",
       "      <td>166.29</td>\n",
       "      <td>25.6</td>\n",
       "      <td>1</td>\n",
       "      <td>0</td>\n",
       "      <td>3</td>\n",
       "      <td>0</td>\n",
       "      <td>0</td>\n",
       "    </tr>\n",
       "    <tr>\n",
       "      <th>5108</th>\n",
       "      <td>1</td>\n",
       "      <td>44.0</td>\n",
       "      <td>0</td>\n",
       "      <td>0</td>\n",
       "      <td>1</td>\n",
       "      <td>0</td>\n",
       "      <td>1</td>\n",
       "      <td>85.28</td>\n",
       "      <td>26.2</td>\n",
       "      <td>3</td>\n",
       "      <td>0</td>\n",
       "      <td>3</td>\n",
       "      <td>0</td>\n",
       "      <td>0</td>\n",
       "    </tr>\n",
       "  </tbody>\n",
       "</table>\n",
       "<p>5109 rows × 14 columns</p>\n",
       "</div>"
      ],
      "text/plain": [
       "      gender   age  hypertension  heart_disease  ever_married  work_type  \\\n",
       "0          0  67.0             0              1             1          2   \n",
       "1          1  61.0             0              0             1          3   \n",
       "2          0  80.0             0              1             1          2   \n",
       "3          1  49.0             0              0             1          2   \n",
       "4          1  79.0             1              0             1          3   \n",
       "...      ...   ...           ...            ...           ...        ...   \n",
       "5104       1  80.0             1              0             1          2   \n",
       "5105       1  81.0             0              0             1          3   \n",
       "5106       1  35.0             0              0             1          3   \n",
       "5107       0  51.0             0              0             1          2   \n",
       "5108       1  44.0             0              0             1          0   \n",
       "\n",
       "      Residence_type  avg_glucose_level   bmi  smoking_status  stroke  \\\n",
       "0                  1             228.69  36.6               1       1   \n",
       "1                  0             202.21   NaN               0       1   \n",
       "2                  0             105.92  32.5               0       1   \n",
       "3                  1             171.23  34.4               2       1   \n",
       "4                  0             174.12  24.0               0       1   \n",
       "...              ...                ...   ...             ...     ...   \n",
       "5104               1              83.75   NaN               0       0   \n",
       "5105               1             125.20  40.0               0       0   \n",
       "5106               0              82.99  30.6               0       0   \n",
       "5107               0             166.29  25.6               1       0   \n",
       "5108               1              85.28  26.2               3       0   \n",
       "\n",
       "      age_bin  bmi_group  glc_group  \n",
       "0           4          1          1  \n",
       "1           4          0          1  \n",
       "2           4          1          0  \n",
       "3           3          1          0  \n",
       "4           4          0          0  \n",
       "...       ...        ...        ...  \n",
       "5104        4          0          0  \n",
       "5105        5          1          0  \n",
       "5106        2          1          0  \n",
       "5107        3          0          0  \n",
       "5108        3          0          0  \n",
       "\n",
       "[5109 rows x 14 columns]"
      ]
     },
     "execution_count": 30,
     "metadata": {},
     "output_type": "execute_result"
    }
   ],
   "source": [
    "data"
   ]
  },
  {
   "cell_type": "code",
   "execution_count": 31,
   "id": "f896c153",
   "metadata": {},
   "outputs": [],
   "source": [
    "missing = data[data.bmi.isnull()].drop('bmi', axis=1)\n",
    "X = data[~data.bmi.isnull()].drop('bmi', axis=1)\n",
    "y = data.bmi[~data.bmi.isnull()]\n",
    "X_train, X_test, y_train, y_test = train_test_split(X, y, test_size=0.2, random_state=42)"
   ]
  },
  {
   "cell_type": "code",
   "execution_count": 32,
   "id": "dbd4b2eb",
   "metadata": {},
   "outputs": [],
   "source": [
    "# n_estimators = [75, 100, 125, 150, 200]\n",
    "# max_features = [2, 4, 6, 8, 10]\n",
    "# bootstrap = [True, False]\n",
    "# max_depth = [2, 4, 6, 8, 10, None]\n",
    "# param_grid = {'n_estimators': n_estimators,\n",
    "#              'max_features': max_features,\n",
    "#              'bootstrap': bootstrap,\n",
    "#              'max_depth': max_depth}\n",
    "\n",
    "# rfr = RandomForestRegressor()\n",
    "# gscv_rfr = GridSearchCV(rfr, param_grid)\n",
    "# gscv_rfr.fit(X_train, y_train)\n",
    "# gscv_rfr.best_params_\n",
    "## {'bootstrap': True, 'max_depth': 6, 'max_features': 6, 'n_estimators': 150}"
   ]
  },
  {
   "cell_type": "code",
   "execution_count": 33,
   "id": "097cd97f",
   "metadata": {},
   "outputs": [],
   "source": [
    "best_rfr_bmi_pipeline = Pipeline(steps=[('scale', StandardScaler()),\n",
    "                                  ('reg', RandomForestRegressor(bootstrap=True, max_depth=6, max_features=6,\n",
    "                                                                n_estimators=150, random_state=42))])"
   ]
  },
  {
   "cell_type": "code",
   "execution_count": 34,
   "id": "d08967d6",
   "metadata": {},
   "outputs": [],
   "source": [
    "best_rfr_bmi_pipeline.fit(X, y)\n",
    "pred = best_rfr_bmi_pipeline.predict(missing)"
   ]
  },
  {
   "cell_type": "code",
   "execution_count": 35,
   "id": "c6e51646",
   "metadata": {},
   "outputs": [],
   "source": [
    "data.bmi[data.bmi.isnull()] = pred"
   ]
  },
  {
   "cell_type": "code",
   "execution_count": 36,
   "id": "7d40c64f",
   "metadata": {},
   "outputs": [
    {
     "data": {
      "text/html": [
       "<div>\n",
       "<style scoped>\n",
       "    .dataframe tbody tr th:only-of-type {\n",
       "        vertical-align: middle;\n",
       "    }\n",
       "\n",
       "    .dataframe tbody tr th {\n",
       "        vertical-align: top;\n",
       "    }\n",
       "\n",
       "    .dataframe thead th {\n",
       "        text-align: right;\n",
       "    }\n",
       "</style>\n",
       "<table border=\"1\" class=\"dataframe\">\n",
       "  <thead>\n",
       "    <tr style=\"text-align: right;\">\n",
       "      <th></th>\n",
       "      <th>gender</th>\n",
       "      <th>age</th>\n",
       "      <th>hypertension</th>\n",
       "      <th>heart_disease</th>\n",
       "      <th>ever_married</th>\n",
       "      <th>work_type</th>\n",
       "      <th>Residence_type</th>\n",
       "      <th>avg_glucose_level</th>\n",
       "      <th>bmi</th>\n",
       "      <th>smoking_status</th>\n",
       "      <th>stroke</th>\n",
       "      <th>age_bin</th>\n",
       "      <th>bmi_group</th>\n",
       "      <th>glc_group</th>\n",
       "    </tr>\n",
       "  </thead>\n",
       "  <tbody>\n",
       "    <tr>\n",
       "      <th>0</th>\n",
       "      <td>0</td>\n",
       "      <td>67.0</td>\n",
       "      <td>0</td>\n",
       "      <td>1</td>\n",
       "      <td>1</td>\n",
       "      <td>2</td>\n",
       "      <td>1</td>\n",
       "      <td>228.69</td>\n",
       "      <td>36.600000</td>\n",
       "      <td>1</td>\n",
       "      <td>1</td>\n",
       "      <td>4</td>\n",
       "      <td>1</td>\n",
       "      <td>1</td>\n",
       "    </tr>\n",
       "    <tr>\n",
       "      <th>1</th>\n",
       "      <td>1</td>\n",
       "      <td>61.0</td>\n",
       "      <td>0</td>\n",
       "      <td>0</td>\n",
       "      <td>1</td>\n",
       "      <td>3</td>\n",
       "      <td>0</td>\n",
       "      <td>202.21</td>\n",
       "      <td>26.551778</td>\n",
       "      <td>0</td>\n",
       "      <td>1</td>\n",
       "      <td>4</td>\n",
       "      <td>0</td>\n",
       "      <td>1</td>\n",
       "    </tr>\n",
       "    <tr>\n",
       "      <th>2</th>\n",
       "      <td>0</td>\n",
       "      <td>80.0</td>\n",
       "      <td>0</td>\n",
       "      <td>1</td>\n",
       "      <td>1</td>\n",
       "      <td>2</td>\n",
       "      <td>0</td>\n",
       "      <td>105.92</td>\n",
       "      <td>32.500000</td>\n",
       "      <td>0</td>\n",
       "      <td>1</td>\n",
       "      <td>4</td>\n",
       "      <td>1</td>\n",
       "      <td>0</td>\n",
       "    </tr>\n",
       "    <tr>\n",
       "      <th>3</th>\n",
       "      <td>1</td>\n",
       "      <td>49.0</td>\n",
       "      <td>0</td>\n",
       "      <td>0</td>\n",
       "      <td>1</td>\n",
       "      <td>2</td>\n",
       "      <td>1</td>\n",
       "      <td>171.23</td>\n",
       "      <td>34.400000</td>\n",
       "      <td>2</td>\n",
       "      <td>1</td>\n",
       "      <td>3</td>\n",
       "      <td>1</td>\n",
       "      <td>0</td>\n",
       "    </tr>\n",
       "    <tr>\n",
       "      <th>4</th>\n",
       "      <td>1</td>\n",
       "      <td>79.0</td>\n",
       "      <td>1</td>\n",
       "      <td>0</td>\n",
       "      <td>1</td>\n",
       "      <td>3</td>\n",
       "      <td>0</td>\n",
       "      <td>174.12</td>\n",
       "      <td>24.000000</td>\n",
       "      <td>0</td>\n",
       "      <td>1</td>\n",
       "      <td>4</td>\n",
       "      <td>0</td>\n",
       "      <td>0</td>\n",
       "    </tr>\n",
       "    <tr>\n",
       "      <th>...</th>\n",
       "      <td>...</td>\n",
       "      <td>...</td>\n",
       "      <td>...</td>\n",
       "      <td>...</td>\n",
       "      <td>...</td>\n",
       "      <td>...</td>\n",
       "      <td>...</td>\n",
       "      <td>...</td>\n",
       "      <td>...</td>\n",
       "      <td>...</td>\n",
       "      <td>...</td>\n",
       "      <td>...</td>\n",
       "      <td>...</td>\n",
       "      <td>...</td>\n",
       "    </tr>\n",
       "    <tr>\n",
       "      <th>5104</th>\n",
       "      <td>1</td>\n",
       "      <td>80.0</td>\n",
       "      <td>1</td>\n",
       "      <td>0</td>\n",
       "      <td>1</td>\n",
       "      <td>2</td>\n",
       "      <td>1</td>\n",
       "      <td>83.75</td>\n",
       "      <td>25.333429</td>\n",
       "      <td>0</td>\n",
       "      <td>0</td>\n",
       "      <td>4</td>\n",
       "      <td>0</td>\n",
       "      <td>0</td>\n",
       "    </tr>\n",
       "    <tr>\n",
       "      <th>5105</th>\n",
       "      <td>1</td>\n",
       "      <td>81.0</td>\n",
       "      <td>0</td>\n",
       "      <td>0</td>\n",
       "      <td>1</td>\n",
       "      <td>3</td>\n",
       "      <td>1</td>\n",
       "      <td>125.20</td>\n",
       "      <td>40.000000</td>\n",
       "      <td>0</td>\n",
       "      <td>0</td>\n",
       "      <td>5</td>\n",
       "      <td>1</td>\n",
       "      <td>0</td>\n",
       "    </tr>\n",
       "    <tr>\n",
       "      <th>5106</th>\n",
       "      <td>1</td>\n",
       "      <td>35.0</td>\n",
       "      <td>0</td>\n",
       "      <td>0</td>\n",
       "      <td>1</td>\n",
       "      <td>3</td>\n",
       "      <td>0</td>\n",
       "      <td>82.99</td>\n",
       "      <td>30.600000</td>\n",
       "      <td>0</td>\n",
       "      <td>0</td>\n",
       "      <td>2</td>\n",
       "      <td>1</td>\n",
       "      <td>0</td>\n",
       "    </tr>\n",
       "    <tr>\n",
       "      <th>5107</th>\n",
       "      <td>0</td>\n",
       "      <td>51.0</td>\n",
       "      <td>0</td>\n",
       "      <td>0</td>\n",
       "      <td>1</td>\n",
       "      <td>2</td>\n",
       "      <td>0</td>\n",
       "      <td>166.29</td>\n",
       "      <td>25.600000</td>\n",
       "      <td>1</td>\n",
       "      <td>0</td>\n",
       "      <td>3</td>\n",
       "      <td>0</td>\n",
       "      <td>0</td>\n",
       "    </tr>\n",
       "    <tr>\n",
       "      <th>5108</th>\n",
       "      <td>1</td>\n",
       "      <td>44.0</td>\n",
       "      <td>0</td>\n",
       "      <td>0</td>\n",
       "      <td>1</td>\n",
       "      <td>0</td>\n",
       "      <td>1</td>\n",
       "      <td>85.28</td>\n",
       "      <td>26.200000</td>\n",
       "      <td>3</td>\n",
       "      <td>0</td>\n",
       "      <td>3</td>\n",
       "      <td>0</td>\n",
       "      <td>0</td>\n",
       "    </tr>\n",
       "  </tbody>\n",
       "</table>\n",
       "<p>5109 rows × 14 columns</p>\n",
       "</div>"
      ],
      "text/plain": [
       "      gender   age  hypertension  heart_disease  ever_married  work_type  \\\n",
       "0          0  67.0             0              1             1          2   \n",
       "1          1  61.0             0              0             1          3   \n",
       "2          0  80.0             0              1             1          2   \n",
       "3          1  49.0             0              0             1          2   \n",
       "4          1  79.0             1              0             1          3   \n",
       "...      ...   ...           ...            ...           ...        ...   \n",
       "5104       1  80.0             1              0             1          2   \n",
       "5105       1  81.0             0              0             1          3   \n",
       "5106       1  35.0             0              0             1          3   \n",
       "5107       0  51.0             0              0             1          2   \n",
       "5108       1  44.0             0              0             1          0   \n",
       "\n",
       "      Residence_type  avg_glucose_level        bmi  smoking_status  stroke  \\\n",
       "0                  1             228.69  36.600000               1       1   \n",
       "1                  0             202.21  26.551778               0       1   \n",
       "2                  0             105.92  32.500000               0       1   \n",
       "3                  1             171.23  34.400000               2       1   \n",
       "4                  0             174.12  24.000000               0       1   \n",
       "...              ...                ...        ...             ...     ...   \n",
       "5104               1              83.75  25.333429               0       0   \n",
       "5105               1             125.20  40.000000               0       0   \n",
       "5106               0              82.99  30.600000               0       0   \n",
       "5107               0             166.29  25.600000               1       0   \n",
       "5108               1              85.28  26.200000               3       0   \n",
       "\n",
       "      age_bin  bmi_group  glc_group  \n",
       "0           4          1          1  \n",
       "1           4          0          1  \n",
       "2           4          1          0  \n",
       "3           3          1          0  \n",
       "4           4          0          0  \n",
       "...       ...        ...        ...  \n",
       "5104        4          0          0  \n",
       "5105        5          1          0  \n",
       "5106        2          1          0  \n",
       "5107        3          0          0  \n",
       "5108        3          0          0  \n",
       "\n",
       "[5109 rows x 14 columns]"
      ]
     },
     "execution_count": 36,
     "metadata": {},
     "output_type": "execute_result"
    }
   ],
   "source": [
    "data"
   ]
  },
  {
   "cell_type": "code",
   "execution_count": null,
   "id": "f3f65d05",
   "metadata": {},
   "outputs": [],
   "source": []
  },
  {
   "cell_type": "markdown",
   "id": "5ce6f693",
   "metadata": {},
   "source": [
    "## Questions\n",
    "We've explored the data and cleaned the data.  \n",
    "Now, we have to make some questions about the data and find answer of those questions from the data.\n",
    "\n",
    "These are my questions after a brief EDA.\n",
    "\n",
    "1. Is there a difference in demographic features between stroke vs non-stroke group?\n",
    "2. Underlying diseases can affect the incidence of stroke?\n",
    "3. Lifestyle modification can be a effective way to prevent stroke?"
   ]
  },
  {
   "cell_type": "markdown",
   "id": "e38bba80",
   "metadata": {},
   "source": [
    "### Question 1"
   ]
  },
  {
   "cell_type": "markdown",
   "id": "976beda2",
   "metadata": {},
   "source": [
    "Demographics are the classifiable characteristics of a given population.  \n",
    "Demographic data refers to socioeconomic information expressed statistically, including employment, education, income, marriage rates, birth and death rates, and more.  \n",
    "  \n",
    "In our dataset, we have 'gender', 'age', 'ever_married', 'work_type', 'Residence_type'.  \n",
    "  \n",
    "Let's look at those data."
   ]
  },
  {
   "cell_type": "markdown",
   "id": "a8e3d74d",
   "metadata": {},
   "source": [
    "### gender"
   ]
  },
  {
   "cell_type": "code",
   "execution_count": 37,
   "id": "15ed4f96",
   "metadata": {
    "scrolled": true
   },
   "outputs": [
    {
     "data": {
      "image/png": "[encoded data removed]",
      "text/plain": [
       "<Figure size 432x288 with 1 Axes>"
      ]
     },
     "metadata": {
      "needs_background": "light"
     },
     "output_type": "display_data"
    }
   ],
   "source": [
    "sns.countplot(x='gender', hue='stroke', data=data, palette=['#9bb7d4', '#dcd0ff'])\n",
    "plt.xticks(ticks=[0, 1], labels=['Male', 'Female'])\n",
    "plt.grid(axis='y', color='gray', linestyle=':', dashes=(1, 5));"
   ]
  },
  {
   "cell_type": "code",
   "execution_count": 38,
   "id": "021d0264",
   "metadata": {},
   "outputs": [
    {
     "name": "stdout",
     "output_type": "stream",
     "text": [
      "Percentage of Male Stroke patient among Male group:  5.11 %\n",
      "Percentage of Female Stroke patient among Male group:  4.71 %\n"
     ]
    }
   ],
   "source": [
    "print('Percentage of Male Stroke patient among Male group: ', round(((data.gender==0)&(data.stroke==1)).sum()/(data.gender==0).sum() * 100, 2), '%')\n",
    "print('Percentage of Female Stroke patient among Male group: ', round(((data.gender==1)&(data.stroke==1)).sum()/(data.gender==1).sum() * 100, 2), '%')"
   ]
  },
  {
   "cell_type": "markdown",
   "id": "a34959f5",
   "metadata": {},
   "source": [
    "Let's compare ratio of stroke patient among gender groups with contingency table and chi-square test."
   ]
  },
  {
   "cell_type": "code",
   "execution_count": 39,
   "id": "c603def9",
   "metadata": {},
   "outputs": [
    {
     "data": {
      "text/html": [
       "<div>\n",
       "<style scoped>\n",
       "    .dataframe tbody tr th:only-of-type {\n",
       "        vertical-align: middle;\n",
       "    }\n",
       "\n",
       "    .dataframe tbody tr th {\n",
       "        vertical-align: top;\n",
       "    }\n",
       "\n",
       "    .dataframe thead th {\n",
       "        text-align: right;\n",
       "    }\n",
       "</style>\n",
       "<table border=\"1\" class=\"dataframe\">\n",
       "  <thead>\n",
       "    <tr style=\"text-align: right;\">\n",
       "      <th>stroke</th>\n",
       "      <th>0</th>\n",
       "      <th>1</th>\n",
       "    </tr>\n",
       "    <tr>\n",
       "      <th>gender</th>\n",
       "      <th></th>\n",
       "      <th></th>\n",
       "    </tr>\n",
       "  </thead>\n",
       "  <tbody>\n",
       "    <tr>\n",
       "      <th>0</th>\n",
       "      <td>2007</td>\n",
       "      <td>108</td>\n",
       "    </tr>\n",
       "    <tr>\n",
       "      <th>1</th>\n",
       "      <td>2853</td>\n",
       "      <td>141</td>\n",
       "    </tr>\n",
       "  </tbody>\n",
       "</table>\n",
       "</div>"
      ],
      "text/plain": [
       "stroke     0    1\n",
       "gender           \n",
       "0       2007  108\n",
       "1       2853  141"
      ]
     },
     "execution_count": 39,
     "metadata": {},
     "output_type": "execute_result"
    }
   ],
   "source": [
    "contin = pd.crosstab(data.gender, data.stroke)\n",
    "contin"
   ]
  },
  {
   "cell_type": "code",
   "execution_count": 40,
   "id": "68d8e1f3",
   "metadata": {
    "scrolled": false
   },
   "outputs": [
    {
     "data": {
      "text/html": [
       "<div>\n",
       "<style scoped>\n",
       "    .dataframe tbody tr th:only-of-type {\n",
       "        vertical-align: middle;\n",
       "    }\n",
       "\n",
       "    .dataframe tbody tr th {\n",
       "        vertical-align: top;\n",
       "    }\n",
       "\n",
       "    .dataframe thead th {\n",
       "        text-align: right;\n",
       "    }\n",
       "</style>\n",
       "<table border=\"1\" class=\"dataframe\">\n",
       "  <thead>\n",
       "    <tr style=\"text-align: right;\">\n",
       "      <th></th>\n",
       "      <th>chi2</th>\n",
       "      <th>p</th>\n",
       "      <th>dof</th>\n",
       "    </tr>\n",
       "  </thead>\n",
       "  <tbody>\n",
       "    <tr>\n",
       "      <th>0</th>\n",
       "      <td>0.340003</td>\n",
       "      <td>0.559828</td>\n",
       "      <td>1</td>\n",
       "    </tr>\n",
       "  </tbody>\n",
       "</table>\n",
       "</div>"
      ],
      "text/plain": [
       "       chi2         p  dof\n",
       "0  0.340003  0.559828    1"
      ]
     },
     "execution_count": 40,
     "metadata": {},
     "output_type": "execute_result"
    }
   ],
   "source": [
    "col_names = ['chi2', 'p', 'dof']\n",
    "chi2, p, dof, expected = ss.chi2_contingency(contin)\n",
    "pd.DataFrame([[chi2, p, dof]], columns=col_names)"
   ]
  },
  {
   "cell_type": "markdown",
   "id": "67ccd6f4",
   "metadata": {},
   "source": [
    "p-value is higher than 0.05 and it indicates strong evidence for the null hypothesis  \n",
    "which is there is no significant difference of stroke patient proportions between gender groups."
   ]
  },
  {
   "cell_type": "markdown",
   "id": "b6ed3e50",
   "metadata": {},
   "source": [
    "### age"
   ]
  },
  {
   "cell_type": "code",
   "execution_count": 41,
   "id": "2ae6c363",
   "metadata": {},
   "outputs": [
    {
     "data": {
      "text/plain": [
       "<AxesSubplot:xlabel='age', ylabel='Density'>"
      ]
     },
     "execution_count": 41,
     "metadata": {},
     "output_type": "execute_result"
    },
    {
     "data": {
      "image/png": "[encoded data removed]",
      "text/plain": [
       "<Figure size 432x288 with 1 Axes>"
      ]
     },
     "metadata": {
      "needs_background": "light"
     },
     "output_type": "display_data"
    }
   ],
   "source": [
    "sns.kdeplot(x='age', data=data, hue='stroke', shade=True, palette=['#9bb7d4', '#dcd0ff'])"
   ]
  },
  {
   "cell_type": "code",
   "execution_count": 42,
   "id": "fff77cc3",
   "metadata": {},
   "outputs": [
    {
     "name": "stdout",
     "output_type": "stream",
     "text": [
      "Mean of age values in stroke positive group :  67.73\n",
      "Mean of age values in stroke positive group :  41.97\n"
     ]
    }
   ],
   "source": [
    "print('Mean of age values in stroke positive group : ', round(data.age[data.stroke==1].mean(), 2))\n",
    "print('Mean of age values in stroke positive group : ', round(data.age[data.stroke==0].mean(), 2))"
   ]
  },
  {
   "cell_type": "code",
   "execution_count": 43,
   "id": "b85116e3",
   "metadata": {},
   "outputs": [
    {
     "name": "stdout",
     "output_type": "stream",
     "text": [
      "Brown-Forsythe test : statistic = 129.7214, p-value = 0.0000\n",
      "Data satisfy equality of variance assumption.\n"
     ]
    }
   ],
   "source": [
    "result = ss.levene(data.age[data.stroke==1], data.age[data.stroke==0], center='median')\n",
    "\n",
    "if result.pvalue < 0.05:\n",
    "    print(f\"Brown-Forsythe test : statistic = {result.statistic:.4f}, p-value = {result.pvalue:.4f}\")\n",
    "    print(\"Data satisfy equality of variance assumption.\")\n",
    "else : \n",
    "    print(f\"Brown-Forsythe test : statistic = {result.statistic:.4f}, p-value = {result.pvalue:.4f}\")\n",
    "    print(\"Data does not satisfy equality of variance assumption.\")"
   ]
  },
  {
   "cell_type": "markdown",
   "id": "558965f7",
   "metadata": {},
   "source": [
    "So above data satisfy equality of variance assumption, now we can use independent t-test to compare the averages of ages between stroke and non-stroke group."
   ]
  },
  {
   "cell_type": "code",
   "execution_count": 44,
   "id": "d8024f20",
   "metadata": {},
   "outputs": [
    {
     "data": {
      "text/plain": [
       "Ttest_indResult(statistic=18.07760628336985, pvalue=7.435468822639662e-71)"
      ]
     },
     "execution_count": 44,
     "metadata": {},
     "output_type": "execute_result"
    }
   ],
   "source": [
    "ss.ttest_ind(data.age[data.stroke==1], data.age[data.stroke==0])"
   ]
  },
  {
   "cell_type": "markdown",
   "id": "52be74d4",
   "metadata": {},
   "source": [
    "p-value is way lower than 0.05 and it indicates strong evidence for the alternative hypothesis\n",
    "which is there is a significant difference in averages of ages between stroke and non-stroke groups.  \n",
    "  \n",
    "This result correlates with what we've already seen in the EDA."
   ]
  },
  {
   "cell_type": "markdown",
   "id": "fac5c128",
   "metadata": {},
   "source": [
    "### marriage"
   ]
  },
  {
   "cell_type": "code",
   "execution_count": 45,
   "id": "57e6bece",
   "metadata": {},
   "outputs": [
    {
     "data": {
      "image/png": "[encoded data removed]",
      "text/plain": [
       "<Figure size 432x288 with 1 Axes>"
      ]
     },
     "metadata": {
      "needs_background": "light"
     },
     "output_type": "display_data"
    }
   ],
   "source": [
    "sns.countplot(x='ever_married', hue='stroke', data=data, palette=['#9bb7d4', '#dcd0ff']);"
   ]
  },
  {
   "cell_type": "code",
   "execution_count": 46,
   "id": "266472e4",
   "metadata": {},
   "outputs": [
    {
     "name": "stdout",
     "output_type": "stream",
     "text": [
      "Percentage of Stroke patient who ever married among ever-married group:  6.56 %\n",
      "Percentage of Stroke patient who have never married among never-married group:  1.65 %\n"
     ]
    }
   ],
   "source": [
    "print('Percentage of Stroke patient who ever married among ever-married group: ', round(((df.ever_married=='Yes')&(df.stroke==1)).sum()/(df.ever_married=='Yes').sum() * 100, 2), '%')\n",
    "print('Percentage of Stroke patient who have never married among never-married group: ', round(((df.ever_married=='No')&(df.stroke==1)).sum()/(df.ever_married=='No').sum() * 100, 2), '%')"
   ]
  },
  {
   "cell_type": "code",
   "execution_count": 47,
   "id": "66aeb699",
   "metadata": {},
   "outputs": [
    {
     "data": {
      "text/html": [
       "<div>\n",
       "<style scoped>\n",
       "    .dataframe tbody tr th:only-of-type {\n",
       "        vertical-align: middle;\n",
       "    }\n",
       "\n",
       "    .dataframe tbody tr th {\n",
       "        vertical-align: top;\n",
       "    }\n",
       "\n",
       "    .dataframe thead th {\n",
       "        text-align: right;\n",
       "    }\n",
       "</style>\n",
       "<table border=\"1\" class=\"dataframe\">\n",
       "  <thead>\n",
       "    <tr style=\"text-align: right;\">\n",
       "      <th></th>\n",
       "      <th>chi2</th>\n",
       "      <th>p</th>\n",
       "      <th>dof</th>\n",
       "    </tr>\n",
       "  </thead>\n",
       "  <tbody>\n",
       "    <tr>\n",
       "      <th>0</th>\n",
       "      <td>58.92389</td>\n",
       "      <td>1.638902e-14</td>\n",
       "      <td>1</td>\n",
       "    </tr>\n",
       "  </tbody>\n",
       "</table>\n",
       "</div>"
      ],
      "text/plain": [
       "       chi2             p  dof\n",
       "0  58.92389  1.638902e-14    1"
      ]
     },
     "execution_count": 47,
     "metadata": {},
     "output_type": "execute_result"
    }
   ],
   "source": [
    "contin = pd.crosstab(df.ever_married, df.stroke)\n",
    "col_names = ['chi2', 'p', 'dof']\n",
    "chi2, p, dof, expected = ss.chi2_contingency(contin)\n",
    "pd.DataFrame([[chi2, p, dof]], columns=col_names)"
   ]
  },
  {
   "cell_type": "markdown",
   "id": "a527d3b6",
   "metadata": {},
   "source": [
    "This is funny.  \n",
    "As we can see in the above plot, in ever-married group the ratio of stroke patients seems to be higher than the other.  \n",
    "And there is significant difference in proportion of stroke patients between marital status groups.  \n",
    "**(Marriage can be tough!)**"
   ]
  },
  {
   "cell_type": "markdown",
   "id": "e65fcb71",
   "metadata": {},
   "source": [
    "Additionally, let's find out the odds ratio."
   ]
  },
  {
   "cell_type": "code",
   "execution_count": 48,
   "id": "7570dbea",
   "metadata": {},
   "outputs": [],
   "source": [
    "def get_or(contin):\n",
    "    odds1 = contin.iloc[0][1]/contin.iloc[0][0]\n",
    "    odds2 = contin.iloc[1][1]/contin.iloc[1][0]\n",
    "    return round(odds2/odds1, 2)"
   ]
  },
  {
   "cell_type": "code",
   "execution_count": 49,
   "id": "922e0a43",
   "metadata": {},
   "outputs": [
    {
     "data": {
      "text/plain": [
       "4.18"
      ]
     },
     "execution_count": 49,
     "metadata": {},
     "output_type": "execute_result"
    }
   ],
   "source": [
    "get_or(contin)"
   ]
  },
  {
   "cell_type": "markdown",
   "id": "186a8c96",
   "metadata": {},
   "source": [
    "The odds ratio is 4.18 and it means that odds of developing a stroke in ever-married group is 4.18 times higher than  \n",
    "odds of developing stroke in never-married group.  "
   ]
  },
  {
   "cell_type": "markdown",
   "id": "08367239",
   "metadata": {},
   "source": [
    "### residence_type"
   ]
  },
  {
   "cell_type": "code",
   "execution_count": 50,
   "id": "58de8ded",
   "metadata": {},
   "outputs": [
    {
     "data": {
      "image/png": "[encoded data removed]",
      "text/plain": [
       "<Figure size 432x288 with 1 Axes>"
      ]
     },
     "metadata": {
      "needs_background": "light"
     },
     "output_type": "display_data"
    }
   ],
   "source": [
    "sns.countplot(x='Residence_type', hue='stroke', data=data, palette=['#9bb7d4', '#dcd0ff']);"
   ]
  },
  {
   "cell_type": "code",
   "execution_count": 51,
   "id": "6eb0433a",
   "metadata": {},
   "outputs": [
    {
     "name": "stdout",
     "output_type": "stream",
     "text": [
      "Percentage of Stroke patient who live in urban areas:  5.2 %\n",
      "Percentage of Stroke patient who live in rural areas:  4.53 %\n"
     ]
    }
   ],
   "source": [
    "print('Percentage of Stroke patient who live in urban areas: ', round(((df.Residence_type=='Urban')&(df.stroke==1)).sum()/(df.Residence_type=='Urban').sum() * 100, 2), '%')\n",
    "print('Percentage of Stroke patient who live in rural areas: ', round(((df.Residence_type=='Rural')&(df.stroke==1)).sum()/(df.Residence_type=='Rural').sum() * 100, 2), '%')"
   ]
  },
  {
   "cell_type": "code",
   "execution_count": 52,
   "id": "a12c13ee",
   "metadata": {},
   "outputs": [
    {
     "data": {
      "text/html": [
       "<div>\n",
       "<style scoped>\n",
       "    .dataframe tbody tr th:only-of-type {\n",
       "        vertical-align: middle;\n",
       "    }\n",
       "\n",
       "    .dataframe tbody tr th {\n",
       "        vertical-align: top;\n",
       "    }\n",
       "\n",
       "    .dataframe thead th {\n",
       "        text-align: right;\n",
       "    }\n",
       "</style>\n",
       "<table border=\"1\" class=\"dataframe\">\n",
       "  <thead>\n",
       "    <tr style=\"text-align: right;\">\n",
       "      <th></th>\n",
       "      <th>chi2</th>\n",
       "      <th>p</th>\n",
       "      <th>dof</th>\n",
       "    </tr>\n",
       "  </thead>\n",
       "  <tbody>\n",
       "    <tr>\n",
       "      <th>0</th>\n",
       "      <td>1.081637</td>\n",
       "      <td>0.298332</td>\n",
       "      <td>1</td>\n",
       "    </tr>\n",
       "  </tbody>\n",
       "</table>\n",
       "</div>"
      ],
      "text/plain": [
       "       chi2         p  dof\n",
       "0  1.081637  0.298332    1"
      ]
     },
     "execution_count": 52,
     "metadata": {},
     "output_type": "execute_result"
    }
   ],
   "source": [
    "contin = pd.crosstab(df.Residence_type, df.stroke)\n",
    "col_names = ['chi2', 'p', 'dof']\n",
    "chi2, p, dof, expected = ss.chi2_contingency(contin)\n",
    "pd.DataFrame([[chi2, p, dof]], columns=col_names)"
   ]
  },
  {
   "cell_type": "markdown",
   "id": "990a2020",
   "metadata": {},
   "source": [
    "There is no significant difference in proportion of stroke patient between the two residence types."
   ]
  },
  {
   "cell_type": "markdown",
   "id": "5e3b8573",
   "metadata": {},
   "source": [
    "### work_type"
   ]
  },
  {
   "cell_type": "code",
   "execution_count": 53,
   "id": "3436a639",
   "metadata": {},
   "outputs": [
    {
     "data": {
      "text/plain": [
       "22"
      ]
     },
     "execution_count": 53,
     "metadata": {},
     "output_type": "execute_result"
    }
   ],
   "source": [
    "(df.work_type=='Never_worked').sum()"
   ]
  },
  {
   "cell_type": "code",
   "execution_count": 54,
   "id": "46eac686",
   "metadata": {},
   "outputs": [
    {
     "name": "stdout",
     "output_type": "stream",
     "text": [
      "Private 5.09 %\n",
      "Self-employed 7.94 %\n",
      "Govt_job 5.02 %\n",
      "children 0.29 %\n",
      "Never_worked 0.0 %\n"
     ]
    }
   ],
   "source": [
    "for wt in df.work_type.unique():\n",
    "    print(f'{wt}', round(len(df[(df.work_type==wt)&(df.stroke==1)])/(df.work_type==wt).sum() * 100, 2), '%')"
   ]
  },
  {
   "cell_type": "code",
   "execution_count": 55,
   "id": "f1b2e3dd",
   "metadata": {},
   "outputs": [
    {
     "data": {
      "image/png": "[encoded data removed]",
      "text/plain": [
       "<Figure size 432x288 with 1 Axes>"
      ]
     },
     "metadata": {
      "needs_background": "light"
     },
     "output_type": "display_data"
    }
   ],
   "source": [
    "sns.countplot(x='work_type', hue='stroke', data=data, palette=['#9bb7d4', '#dcd0ff']);"
   ]
  },
  {
   "cell_type": "code",
   "execution_count": 56,
   "id": "e515ab23",
   "metadata": {},
   "outputs": [
    {
     "data": {
      "text/html": [
       "<div>\n",
       "<style scoped>\n",
       "    .dataframe tbody tr th:only-of-type {\n",
       "        vertical-align: middle;\n",
       "    }\n",
       "\n",
       "    .dataframe tbody tr th {\n",
       "        vertical-align: top;\n",
       "    }\n",
       "\n",
       "    .dataframe thead th {\n",
       "        text-align: right;\n",
       "    }\n",
       "</style>\n",
       "<table border=\"1\" class=\"dataframe\">\n",
       "  <thead>\n",
       "    <tr style=\"text-align: right;\">\n",
       "      <th></th>\n",
       "      <th>chi2</th>\n",
       "      <th>p</th>\n",
       "      <th>dof</th>\n",
       "    </tr>\n",
       "  </thead>\n",
       "  <tbody>\n",
       "    <tr>\n",
       "      <th>0</th>\n",
       "      <td>49.163512</td>\n",
       "      <td>5.397708e-10</td>\n",
       "      <td>4</td>\n",
       "    </tr>\n",
       "  </tbody>\n",
       "</table>\n",
       "</div>"
      ],
      "text/plain": [
       "        chi2             p  dof\n",
       "0  49.163512  5.397708e-10    4"
      ]
     },
     "execution_count": 56,
     "metadata": {},
     "output_type": "execute_result"
    }
   ],
   "source": [
    "contin = pd.crosstab(df.work_type, df.stroke)\n",
    "col_names = ['chi2', 'p', 'dof']\n",
    "chi2, p, dof, expected = ss.chi2_contingency(contin)\n",
    "pd.DataFrame([[chi2, p, dof]], columns=col_names)"
   ]
  },
  {
   "cell_type": "markdown",
   "id": "ba56ccfd",
   "metadata": {},
   "source": [
    ": self_employed group showed slightly higher stroke incident rate than other groups.  \n",
    "no stroke in never-worked group, but total number of the group was 22"
   ]
  },
  {
   "cell_type": "markdown",
   "id": "e87268dd",
   "metadata": {},
   "source": [
    "#### Answer to question 1"
   ]
  },
  {
   "cell_type": "code",
   "execution_count": 57,
   "id": "92dc8a69",
   "metadata": {},
   "outputs": [
    {
     "data": {
      "image/png": "[encoded data removed]",
      "text/plain": [
       "<Figure size 1800x504 with 5 Axes>"
      ]
     },
     "metadata": {},
     "output_type": "display_data"
    }
   ],
   "source": [
    "fig = plt.figure(figsize=(25, 7))\n",
    "gs = fig.add_gridspec(1, 5)\n",
    "gs.update(wspace=0.35, hspace=0.27)\n",
    "plot = 0\n",
    "for i in range(1):\n",
    "    for j in range(5):\n",
    "        locals()['ax'+str(plot)] = fig.add_subplot(gs[i, j])\n",
    "        plot += 1\n",
    "\n",
    "background_color = '#f6f6f6'\n",
    "fig.patch.set_facecolor(background_color) # figure background color\n",
    "\n",
    "sns.countplot(x='gender', hue='stroke', data=data, palette=['#9bb7d4', '#dcd0ff'], ax=ax0)\n",
    "ax0.set_xticks(ticks=[0, 1])\n",
    "ax0.set_xticklabels(['Male', 'Female'])\n",
    "ax0.grid(axis='y', color='gray', linestyle=':', dashes=(1, 5));\n",
    "\n",
    "sns.kdeplot(x='age', data=data, hue='stroke', shade=True, palette=['#9bb7d4', '#dcd0ff'], ax=ax1)\n",
    "\n",
    "sns.countplot(x='ever_married', hue='stroke', data=data, palette=['#9bb7d4', '#dcd0ff'], ax=ax2);\n",
    "\n",
    "sns.countplot(x='Residence_type', hue='stroke', data=data, palette=['#9bb7d4', '#dcd0ff'], ax=ax3);\n",
    "\n",
    "sns.countplot(x='work_type', hue='stroke', data=data, palette=['#9bb7d4', '#dcd0ff'], ax=ax4);"
   ]
  },
  {
   "cell_type": "markdown",
   "id": "ca6682d1",
   "metadata": {},
   "source": [
    "In this dataset, age seems to be the most important factor among the demographic features.  \n",
    "And marital status is also a statistically significant risk factor for developing a stroke."
   ]
  },
  {
   "cell_type": "markdown",
   "id": "7deef452",
   "metadata": {},
   "source": [
    "### Question 2"
   ]
  },
  {
   "cell_type": "markdown",
   "id": "bb2a9bed",
   "metadata": {},
   "source": [
    "In this dataset, 'hypertension', 'heart disease', and 'average glucose level' are features related to the underlying disease.  \n",
    "We will have a close look into 'hypertension', 'heart disease' and 'glucose group'."
   ]
  },
  {
   "cell_type": "markdown",
   "id": "93271966",
   "metadata": {},
   "source": [
    "#### hypertension"
   ]
  },
  {
   "cell_type": "code",
   "execution_count": 58,
   "id": "75a81d9d",
   "metadata": {
    "scrolled": false
   },
   "outputs": [
    {
     "data": {
      "image/png": "[encoded data removed]",
      "text/plain": [
       "<Figure size 432x288 with 1 Axes>"
      ]
     },
     "metadata": {
      "needs_background": "light"
     },
     "output_type": "display_data"
    }
   ],
   "source": [
    "sns.countplot(x='hypertension', hue='stroke', data=data, palette=['#9bb7d4', '#dcd0ff'])\n",
    "plt.xticks([0, 1], ['No Hypertension', 'Hypertension']);"
   ]
  },
  {
   "cell_type": "code",
   "execution_count": 59,
   "id": "0b0ce057",
   "metadata": {},
   "outputs": [
    {
     "data": {
      "text/html": [
       "<div>\n",
       "<style scoped>\n",
       "    .dataframe tbody tr th:only-of-type {\n",
       "        vertical-align: middle;\n",
       "    }\n",
       "\n",
       "    .dataframe tbody tr th {\n",
       "        vertical-align: top;\n",
       "    }\n",
       "\n",
       "    .dataframe thead th {\n",
       "        text-align: right;\n",
       "    }\n",
       "</style>\n",
       "<table border=\"1\" class=\"dataframe\">\n",
       "  <thead>\n",
       "    <tr style=\"text-align: right;\">\n",
       "      <th>stroke</th>\n",
       "      <th>0</th>\n",
       "      <th>1</th>\n",
       "    </tr>\n",
       "    <tr>\n",
       "      <th>hypertension</th>\n",
       "      <th></th>\n",
       "      <th></th>\n",
       "    </tr>\n",
       "  </thead>\n",
       "  <tbody>\n",
       "    <tr>\n",
       "      <th>0</th>\n",
       "      <td>4428</td>\n",
       "      <td>183</td>\n",
       "    </tr>\n",
       "    <tr>\n",
       "      <th>1</th>\n",
       "      <td>432</td>\n",
       "      <td>66</td>\n",
       "    </tr>\n",
       "  </tbody>\n",
       "</table>\n",
       "</div>"
      ],
      "text/plain": [
       "stroke           0    1\n",
       "hypertension           \n",
       "0             4428  183\n",
       "1              432   66"
      ]
     },
     "execution_count": 59,
     "metadata": {},
     "output_type": "execute_result"
    }
   ],
   "source": [
    "contin = pd.crosstab(data.hypertension, data.stroke)\n",
    "contin"
   ]
  },
  {
   "cell_type": "code",
   "execution_count": 60,
   "id": "33c95f29",
   "metadata": {},
   "outputs": [
    {
     "data": {
      "text/html": [
       "<div>\n",
       "<style scoped>\n",
       "    .dataframe tbody tr th:only-of-type {\n",
       "        vertical-align: middle;\n",
       "    }\n",
       "\n",
       "    .dataframe tbody tr th {\n",
       "        vertical-align: top;\n",
       "    }\n",
       "\n",
       "    .dataframe thead th {\n",
       "        text-align: right;\n",
       "    }\n",
       "</style>\n",
       "<table border=\"1\" class=\"dataframe\">\n",
       "  <thead>\n",
       "    <tr style=\"text-align: right;\">\n",
       "      <th></th>\n",
       "      <th>chi2</th>\n",
       "      <th>p</th>\n",
       "      <th>dof</th>\n",
       "    </tr>\n",
       "  </thead>\n",
       "  <tbody>\n",
       "    <tr>\n",
       "      <th>0</th>\n",
       "      <td>81.573145</td>\n",
       "      <td>1.688936e-19</td>\n",
       "      <td>1</td>\n",
       "    </tr>\n",
       "  </tbody>\n",
       "</table>\n",
       "</div>"
      ],
      "text/plain": [
       "        chi2             p  dof\n",
       "0  81.573145  1.688936e-19    1"
      ]
     },
     "execution_count": 60,
     "metadata": {},
     "output_type": "execute_result"
    }
   ],
   "source": [
    "col_names = ['chi2', 'p', 'dof']\n",
    "chi2, p, dof, expected = ss.chi2_contingency(contin)\n",
    "pd.DataFrame([[chi2, p, dof]], columns=col_names)"
   ]
  },
  {
   "cell_type": "markdown",
   "id": "31f58f24",
   "metadata": {},
   "source": [
    "The hypertension groups are not independent of the stroke groups.  \n",
    "This means subjects with hypertension have higher prevalence of stroke."
   ]
  },
  {
   "cell_type": "code",
   "execution_count": 61,
   "id": "92de6007",
   "metadata": {},
   "outputs": [
    {
     "data": {
      "text/plain": [
       "3.7"
      ]
     },
     "execution_count": 61,
     "metadata": {},
     "output_type": "execute_result"
    }
   ],
   "source": [
    "get_or(contin)"
   ]
  },
  {
   "cell_type": "markdown",
   "id": "e0f976a1",
   "metadata": {},
   "source": [
    "And its odds ratio is 3.7, which means the odds of developing a stroke in hypertension positive group is 3.7 times higher  \n",
    "than the odds of developing stroke in hypertension negative group."
   ]
  },
  {
   "cell_type": "markdown",
   "id": "ed31ce95",
   "metadata": {},
   "source": [
    "#### heart disease"
   ]
  },
  {
   "cell_type": "code",
   "execution_count": 62,
   "id": "eee507a9",
   "metadata": {},
   "outputs": [
    {
     "data": {
      "image/png": "[encoded data removed]",
      "text/plain": [
       "<Figure size 432x288 with 1 Axes>"
      ]
     },
     "metadata": {
      "needs_background": "light"
     },
     "output_type": "display_data"
    }
   ],
   "source": [
    "sns.countplot(x='heart_disease', hue='stroke', data=data, palette=['#9bb7d4', '#dcd0ff'])\n",
    "plt.xticks([0, 1], ['No Heart Disease', 'Heart Disease']);"
   ]
  },
  {
   "cell_type": "code",
   "execution_count": 63,
   "id": "fc5868ca",
   "metadata": {},
   "outputs": [
    {
     "data": {
      "text/html": [
       "<div>\n",
       "<style scoped>\n",
       "    .dataframe tbody tr th:only-of-type {\n",
       "        vertical-align: middle;\n",
       "    }\n",
       "\n",
       "    .dataframe tbody tr th {\n",
       "        vertical-align: top;\n",
       "    }\n",
       "\n",
       "    .dataframe thead th {\n",
       "        text-align: right;\n",
       "    }\n",
       "</style>\n",
       "<table border=\"1\" class=\"dataframe\">\n",
       "  <thead>\n",
       "    <tr style=\"text-align: right;\">\n",
       "      <th>stroke</th>\n",
       "      <th>0</th>\n",
       "      <th>1</th>\n",
       "    </tr>\n",
       "    <tr>\n",
       "      <th>heart_disease</th>\n",
       "      <th></th>\n",
       "      <th></th>\n",
       "    </tr>\n",
       "  </thead>\n",
       "  <tbody>\n",
       "    <tr>\n",
       "      <th>0</th>\n",
       "      <td>4631</td>\n",
       "      <td>202</td>\n",
       "    </tr>\n",
       "    <tr>\n",
       "      <th>1</th>\n",
       "      <td>229</td>\n",
       "      <td>47</td>\n",
       "    </tr>\n",
       "  </tbody>\n",
       "</table>\n",
       "</div>"
      ],
      "text/plain": [
       "stroke            0    1\n",
       "heart_disease           \n",
       "0              4631  202\n",
       "1               229   47"
      ]
     },
     "execution_count": 63,
     "metadata": {},
     "output_type": "execute_result"
    }
   ],
   "source": [
    "contin = pd.crosstab(data.heart_disease, data.stroke)\n",
    "contin"
   ]
  },
  {
   "cell_type": "code",
   "execution_count": 64,
   "id": "b097068f",
   "metadata": {},
   "outputs": [
    {
     "data": {
      "text/html": [
       "<div>\n",
       "<style scoped>\n",
       "    .dataframe tbody tr th:only-of-type {\n",
       "        vertical-align: middle;\n",
       "    }\n",
       "\n",
       "    .dataframe tbody tr th {\n",
       "        vertical-align: top;\n",
       "    }\n",
       "\n",
       "    .dataframe thead th {\n",
       "        text-align: right;\n",
       "    }\n",
       "</style>\n",
       "<table border=\"1\" class=\"dataframe\">\n",
       "  <thead>\n",
       "    <tr style=\"text-align: right;\">\n",
       "      <th></th>\n",
       "      <th>chi2</th>\n",
       "      <th>p</th>\n",
       "      <th>dof</th>\n",
       "    </tr>\n",
       "  </thead>\n",
       "  <tbody>\n",
       "    <tr>\n",
       "      <th>0</th>\n",
       "      <td>90.229437</td>\n",
       "      <td>2.120831e-21</td>\n",
       "      <td>1</td>\n",
       "    </tr>\n",
       "  </tbody>\n",
       "</table>\n",
       "</div>"
      ],
      "text/plain": [
       "        chi2             p  dof\n",
       "0  90.229437  2.120831e-21    1"
      ]
     },
     "execution_count": 64,
     "metadata": {},
     "output_type": "execute_result"
    }
   ],
   "source": [
    "col_names = ['chi2', 'p', 'dof']\n",
    "chi2, p, dof, expected = ss.chi2_contingency(contin)\n",
    "pd.DataFrame([[chi2, p, dof]], columns=col_names)"
   ]
  },
  {
   "cell_type": "markdown",
   "id": "1de7c575",
   "metadata": {},
   "source": [
    "The heart disease groups are not independent with the stroke groups.  \n",
    "Subjects with heart diseases have higher prevalence of stroke."
   ]
  },
  {
   "cell_type": "code",
   "execution_count": 65,
   "id": "ca00eaef",
   "metadata": {},
   "outputs": [
    {
     "data": {
      "text/plain": [
       "4.71"
      ]
     },
     "execution_count": 65,
     "metadata": {},
     "output_type": "execute_result"
    }
   ],
   "source": [
    "get_or(contin)"
   ]
  },
  {
   "cell_type": "markdown",
   "id": "a500d5f1",
   "metadata": {},
   "source": [
    "And its odds ratio is 4.71, which means the odds of developing a stroke in heart disease positive group is 4.71 times higher\n",
    "than the odds of developing stroke in heart disease negative group."
   ]
  },
  {
   "cell_type": "markdown",
   "id": "8dc48730",
   "metadata": {},
   "source": [
    "#### glucose group"
   ]
  },
  {
   "cell_type": "code",
   "execution_count": 66,
   "id": "3fe7fd9b",
   "metadata": {},
   "outputs": [
    {
     "data": {
      "image/png": "[encoded data removed]",
      "text/plain": [
       "<Figure size 432x288 with 1 Axes>"
      ]
     },
     "metadata": {
      "needs_background": "light"
     },
     "output_type": "display_data"
    }
   ],
   "source": [
    "sns.countplot(x='glc_group', hue='stroke', data=data, palette=['#9bb7d4', '#dcd0ff'])\n",
    "plt.xticks([0, 1], ['Low Glucose Group', 'High Glucose Group']);"
   ]
  },
  {
   "cell_type": "code",
   "execution_count": 67,
   "id": "9015bb51",
   "metadata": {},
   "outputs": [
    {
     "data": {
      "text/html": [
       "<div>\n",
       "<style scoped>\n",
       "    .dataframe tbody tr th:only-of-type {\n",
       "        vertical-align: middle;\n",
       "    }\n",
       "\n",
       "    .dataframe tbody tr th {\n",
       "        vertical-align: top;\n",
       "    }\n",
       "\n",
       "    .dataframe thead th {\n",
       "        text-align: right;\n",
       "    }\n",
       "</style>\n",
       "<table border=\"1\" class=\"dataframe\">\n",
       "  <thead>\n",
       "    <tr style=\"text-align: right;\">\n",
       "      <th>stroke</th>\n",
       "      <th>0</th>\n",
       "      <th>1</th>\n",
       "    </tr>\n",
       "    <tr>\n",
       "      <th>glc_group</th>\n",
       "      <th></th>\n",
       "      <th></th>\n",
       "    </tr>\n",
       "  </thead>\n",
       "  <tbody>\n",
       "    <tr>\n",
       "      <th>0</th>\n",
       "      <td>4482</td>\n",
       "      <td>193</td>\n",
       "    </tr>\n",
       "    <tr>\n",
       "      <th>1</th>\n",
       "      <td>378</td>\n",
       "      <td>56</td>\n",
       "    </tr>\n",
       "  </tbody>\n",
       "</table>\n",
       "</div>"
      ],
      "text/plain": [
       "stroke        0    1\n",
       "glc_group           \n",
       "0          4482  193\n",
       "1           378   56"
      ]
     },
     "execution_count": 67,
     "metadata": {},
     "output_type": "execute_result"
    }
   ],
   "source": [
    "contin = pd.crosstab(data.glc_group, data.stroke)\n",
    "contin"
   ]
  },
  {
   "cell_type": "code",
   "execution_count": 68,
   "id": "e343cd68",
   "metadata": {},
   "outputs": [
    {
     "data": {
      "text/html": [
       "<div>\n",
       "<style scoped>\n",
       "    .dataframe tbody tr th:only-of-type {\n",
       "        vertical-align: middle;\n",
       "    }\n",
       "\n",
       "    .dataframe tbody tr th {\n",
       "        vertical-align: top;\n",
       "    }\n",
       "\n",
       "    .dataframe thead th {\n",
       "        text-align: right;\n",
       "    }\n",
       "</style>\n",
       "<table border=\"1\" class=\"dataframe\">\n",
       "  <thead>\n",
       "    <tr style=\"text-align: right;\">\n",
       "      <th></th>\n",
       "      <th>chi2</th>\n",
       "      <th>p</th>\n",
       "      <th>dof</th>\n",
       "    </tr>\n",
       "  </thead>\n",
       "  <tbody>\n",
       "    <tr>\n",
       "      <th>0</th>\n",
       "      <td>64.076904</td>\n",
       "      <td>1.196561e-15</td>\n",
       "      <td>1</td>\n",
       "    </tr>\n",
       "  </tbody>\n",
       "</table>\n",
       "</div>"
      ],
      "text/plain": [
       "        chi2             p  dof\n",
       "0  64.076904  1.196561e-15    1"
      ]
     },
     "execution_count": 68,
     "metadata": {},
     "output_type": "execute_result"
    }
   ],
   "source": [
    "col_names = ['chi2', 'p', 'dof']\n",
    "chi2, p, dof, expected = ss.chi2_contingency(contin)\n",
    "pd.DataFrame([[chi2, p, dof]], columns=col_names)"
   ]
  },
  {
   "cell_type": "markdown",
   "id": "c4f90ded",
   "metadata": {},
   "source": [
    "The glucose groups are not indpendent of the stroke groups.  \n",
    "Subjects with high average glucose level have higher prevalence of stroke."
   ]
  },
  {
   "cell_type": "code",
   "execution_count": 69,
   "id": "2ab49de4",
   "metadata": {},
   "outputs": [
    {
     "data": {
      "text/plain": [
       "3.44"
      ]
     },
     "execution_count": 69,
     "metadata": {},
     "output_type": "execute_result"
    }
   ],
   "source": [
    "get_or(contin)"
   ]
  },
  {
   "cell_type": "markdown",
   "id": "18277f35",
   "metadata": {},
   "source": [
    "And its odds ratio is 3.44, which means the odds of developing a stroke in high glucose group is 3.44 times higher than the odds of developing stroke in low glucose group."
   ]
  },
  {
   "cell_type": "markdown",
   "id": "1c1d75d1",
   "metadata": {},
   "source": [
    "#### Answer to question 2"
   ]
  },
  {
   "cell_type": "code",
   "execution_count": 70,
   "id": "aa839427",
   "metadata": {},
   "outputs": [
    {
     "data": {
      "image/png": "[encoded data removed]",
      "text/plain": [
       "<Figure size 1512x504 with 3 Axes>"
      ]
     },
     "metadata": {},
     "output_type": "display_data"
    }
   ],
   "source": [
    "fig = plt.figure(figsize=(21, 7))\n",
    "gs = fig.add_gridspec(1, 3)\n",
    "gs.update(wspace=0.35, hspace=0.27)\n",
    "plot = 0\n",
    "for i in range(1):\n",
    "    for j in range(3):\n",
    "        locals()['ax'+str(plot)] = fig.add_subplot(gs[i, j])\n",
    "        plot += 1\n",
    "\n",
    "background_color = '#f6f6f6'\n",
    "fig.patch.set_facecolor(background_color) # figure background color\n",
    "\n",
    "sns.countplot(x='hypertension', hue='stroke', data=data, palette=['#9bb7d4', '#dcd0ff'], ax=ax0)\n",
    "ax0.set_xticks([0, 1])\n",
    "ax0.set_xticklabels(['No Hypertension', 'Hypertension']);\n",
    "\n",
    "sns.countplot(x='heart_disease', hue='stroke', data=data, palette=['#9bb7d4', '#dcd0ff'], ax=ax1)\n",
    "ax1.set_xticks([0, 1])\n",
    "ax1.set_xticklabels(['No Heart Disease', 'Heart Disease']);\n",
    "\n",
    "sns.countplot(x='glc_group', hue='stroke', data=data, palette=['#9bb7d4', '#dcd0ff'], ax=ax2)\n",
    "ax2.set_xticks([0, 1])\n",
    "ax2.set_xticklabels(['Low Glucose Group', 'High Glucose Group']);"
   ]
  },
  {
   "cell_type": "markdown",
   "id": "c79ed2ea",
   "metadata": {},
   "source": [
    "Hypertension, heart disease and glucose group can be a risk factor for developing stroke."
   ]
  },
  {
   "cell_type": "markdown",
   "id": "fb366ff8",
   "metadata": {},
   "source": [
    "### Question 3"
   ]
  },
  {
   "cell_type": "markdown",
   "id": "31eea636",
   "metadata": {},
   "source": [
    "Smoking status and BMI can be modified by effort.  \n",
    "If there is a relation between these factors and stroke, then it is for sure we have to make an effort to a better way to prevent stroke."
   ]
  },
  {
   "cell_type": "markdown",
   "id": "4743c5d6",
   "metadata": {},
   "source": [
    "#### BMI"
   ]
  },
  {
   "cell_type": "code",
   "execution_count": 71,
   "id": "34f512a3",
   "metadata": {},
   "outputs": [
    {
     "data": {
      "text/plain": [
       "<AxesSubplot:xlabel='bmi', ylabel='Density'>"
      ]
     },
     "execution_count": 71,
     "metadata": {},
     "output_type": "execute_result"
    },
    {
     "data": {
      "image/png": "[encoded data removed]",
      "text/plain": [
       "<Figure size 432x288 with 1 Axes>"
      ]
     },
     "metadata": {
      "needs_background": "light"
     },
     "output_type": "display_data"
    }
   ],
   "source": [
    "sns.kdeplot(x='bmi', hue='stroke', data=data, shade=True, palette=['#9bb7d4', '#dcd0ff'])"
   ]
  },
  {
   "cell_type": "code",
   "execution_count": 72,
   "id": "88d65fb9",
   "metadata": {},
   "outputs": [
    {
     "name": "stdout",
     "output_type": "stream",
     "text": [
      "Mean of BMI values in stroke group :  29.72\n",
      "Mean of BMI values in non-stroke group :  28.71\n"
     ]
    }
   ],
   "source": [
    "print('Mean of BMI values in stroke group : ', round(data.bmi[data.stroke==1].mean(), 2))\n",
    "print('Mean of BMI values in non-stroke group : ', round(data.bmi[data.stroke==0].mean(), 2))"
   ]
  },
  {
   "cell_type": "code",
   "execution_count": 73,
   "id": "7be04fd6",
   "metadata": {},
   "outputs": [
    {
     "name": "stdout",
     "output_type": "stream",
     "text": [
      "Brown-Forsythe test : statistic = 16.1370, p-value = 0.0001\n",
      "Data satisfy equality of variance assumption.\n"
     ]
    }
   ],
   "source": [
    "result = ss.levene(data.bmi[data.stroke==1], data.bmi[data.stroke==0], center='median')\n",
    "\n",
    "if result.pvalue < 0.05:\n",
    "    print(f\"Brown-Forsythe test : statistic = {result.statistic:.4f}, p-value = {result.pvalue:.4f}\")\n",
    "    print(\"Data satisfy equality of variance assumption.\")\n",
    "else : \n",
    "    print(f\"Brown-Forsythe test : statistic = {result.statistic:.4f}, p-value = {result.pvalue:.4f}\")\n",
    "    print(\"Data does not satisfy equality of variance assumption.\")"
   ]
  },
  {
   "cell_type": "code",
   "execution_count": 74,
   "id": "b20c3ac6",
   "metadata": {},
   "outputs": [
    {
     "data": {
      "text/plain": [
       "Ttest_indResult(statistic=2.011774179581776, pvalue=0.04429617259366043)"
      ]
     },
     "execution_count": 74,
     "metadata": {},
     "output_type": "execute_result"
    }
   ],
   "source": [
    "ss.ttest_ind(data.bmi[data.stroke==1], data.bmi[data.stroke==0])"
   ]
  },
  {
   "cell_type": "markdown",
   "id": "11b4c566",
   "metadata": {},
   "source": [
    "p-value is lower than 0.05, so there is a statistically significant difference in the mean values of bmi between stroke and non-stroke groups.  \n",
    "But if we look at the above plot, this statistical significance is not quite acceptable.  \n",
    "As saying goes, obesity is a risk factor of stroke development.  \n",
    "But in this dataset, maybe because of its relatively small sample sizes, imbalance and filling up missing values in bmi using predicted values by regression model, it is difficult to say there is a relation between BMI and stroke."
   ]
  },
  {
   "cell_type": "markdown",
   "id": "8433ece7",
   "metadata": {},
   "source": [
    "#### bmi group"
   ]
  },
  {
   "cell_type": "code",
   "execution_count": 75,
   "id": "41fcde45",
   "metadata": {},
   "outputs": [
    {
     "data": {
      "image/png": "[encoded data removed]",
      "text/plain": [
       "<Figure size 432x288 with 1 Axes>"
      ]
     },
     "metadata": {
      "needs_background": "light"
     },
     "output_type": "display_data"
    }
   ],
   "source": [
    "sns.countplot(x='bmi_group', hue='stroke', data=data, palette=['#9bb7d4', '#dcd0ff']);"
   ]
  },
  {
   "cell_type": "code",
   "execution_count": 76,
   "id": "0f29badb",
   "metadata": {},
   "outputs": [
    {
     "name": "stdout",
     "output_type": "stream",
     "text": [
      "Percentage of stroke patient in low BMI group :  4.74 %\n",
      "Percentage of stroke patient in high BMI group :  5.1 %\n"
     ]
    }
   ],
   "source": [
    "print(\"Percentage of stroke patient in low BMI group : \", round(((data.bmi_group==0)&(data.stroke==1)).sum()/(data.bmi_group==0).sum() * 100, 2), \"%\")\n",
    "print(\"Percentage of stroke patient in high BMI group : \", round(((data.bmi_group==1)&(data.stroke==1)).sum()/(data.bmi_group==1).sum() * 100, 2), \"%\")"
   ]
  },
  {
   "cell_type": "code",
   "execution_count": 77,
   "id": "b3edcda9",
   "metadata": {},
   "outputs": [
    {
     "data": {
      "text/html": [
       "<div>\n",
       "<style scoped>\n",
       "    .dataframe tbody tr th:only-of-type {\n",
       "        vertical-align: middle;\n",
       "    }\n",
       "\n",
       "    .dataframe tbody tr th {\n",
       "        vertical-align: top;\n",
       "    }\n",
       "\n",
       "    .dataframe thead th {\n",
       "        text-align: right;\n",
       "    }\n",
       "</style>\n",
       "<table border=\"1\" class=\"dataframe\">\n",
       "  <thead>\n",
       "    <tr style=\"text-align: right;\">\n",
       "      <th>stroke</th>\n",
       "      <th>0</th>\n",
       "      <th>1</th>\n",
       "    </tr>\n",
       "    <tr>\n",
       "      <th>bmi_group</th>\n",
       "      <th></th>\n",
       "      <th></th>\n",
       "    </tr>\n",
       "  </thead>\n",
       "  <tbody>\n",
       "    <tr>\n",
       "      <th>0</th>\n",
       "      <td>3038</td>\n",
       "      <td>151</td>\n",
       "    </tr>\n",
       "    <tr>\n",
       "      <th>1</th>\n",
       "      <td>1822</td>\n",
       "      <td>98</td>\n",
       "    </tr>\n",
       "  </tbody>\n",
       "</table>\n",
       "</div>"
      ],
      "text/plain": [
       "stroke        0    1\n",
       "bmi_group           \n",
       "0          3038  151\n",
       "1          1822   98"
      ]
     },
     "execution_count": 77,
     "metadata": {},
     "output_type": "execute_result"
    }
   ],
   "source": [
    "contin = pd.crosstab(data.bmi_group, data.stroke)\n",
    "contin"
   ]
  },
  {
   "cell_type": "code",
   "execution_count": 78,
   "id": "487eab20",
   "metadata": {
    "scrolled": true
   },
   "outputs": [
    {
     "data": {
      "text/html": [
       "<div>\n",
       "<style scoped>\n",
       "    .dataframe tbody tr th:only-of-type {\n",
       "        vertical-align: middle;\n",
       "    }\n",
       "\n",
       "    .dataframe tbody tr th {\n",
       "        vertical-align: top;\n",
       "    }\n",
       "\n",
       "    .dataframe thead th {\n",
       "        text-align: right;\n",
       "    }\n",
       "</style>\n",
       "<table border=\"1\" class=\"dataframe\">\n",
       "  <thead>\n",
       "    <tr style=\"text-align: right;\">\n",
       "      <th></th>\n",
       "      <th>chi2</th>\n",
       "      <th>p</th>\n",
       "      <th>dof</th>\n",
       "    </tr>\n",
       "  </thead>\n",
       "  <tbody>\n",
       "    <tr>\n",
       "      <th>0</th>\n",
       "      <td>0.277118</td>\n",
       "      <td>0.598596</td>\n",
       "      <td>1</td>\n",
       "    </tr>\n",
       "  </tbody>\n",
       "</table>\n",
       "</div>"
      ],
      "text/plain": [
       "       chi2         p  dof\n",
       "0  0.277118  0.598596    1"
      ]
     },
     "execution_count": 78,
     "metadata": {},
     "output_type": "execute_result"
    }
   ],
   "source": [
    "col_names = ['chi2', 'p', 'dof']\n",
    "chi2, p, dof, expected = ss.chi2_contingency(contin)\n",
    "pd.DataFrame([[chi2, p, dof]], columns=col_names)"
   ]
  },
  {
   "cell_type": "markdown",
   "id": "8fd275e2",
   "metadata": {},
   "source": [
    "The bmi groups are independent of the stroke groups.  \n",
    "Which means there is no difference in proportion of stroke patient in BMI groups.  \n",
    "In my opinion, with the same reasons I mentioned above, it is difficult to conclude BMI is not related to stroke development."
   ]
  },
  {
   "cell_type": "markdown",
   "id": "2053e593",
   "metadata": {},
   "source": [
    "#### smoking status"
   ]
  },
  {
   "cell_type": "code",
   "execution_count": 79,
   "id": "a764d4a2",
   "metadata": {
    "scrolled": true
   },
   "outputs": [
    {
     "data": {
      "image/png": "[encoded data removed]",
      "text/plain": [
       "<Figure size 432x288 with 1 Axes>"
      ]
     },
     "metadata": {
      "needs_background": "light"
     },
     "output_type": "display_data"
    }
   ],
   "source": [
    "sns.countplot(x='smoking_status', hue='stroke', data=data, palette=['#9bb7d4', '#dcd0ff'])\n",
    "plt.xticks([0, 1, 2, 3], ['Never Smoked', 'Formerly Smoked', 'Smokes', 'Unknown'], rotation=30)\n",
    "plt.ylim(0, 2200);"
   ]
  },
  {
   "cell_type": "code",
   "execution_count": 80,
   "id": "4342044c",
   "metadata": {},
   "outputs": [
    {
     "name": "stdout",
     "output_type": "stream",
     "text": [
      "Percentage of stroke patients in Never-smoked group 4.76 %\n",
      "Percentage of stroke patients in Formerly-smoked group 7.92 %\n",
      "Percentage of stroke patients in Currently-smokes group 5.32 %\n",
      "Percentage of stroke patients in Unknown group 3.04 %\n"
     ]
    }
   ],
   "source": [
    "print(\"Percentage of stroke patients in Never-smoked group\", round(len(data[(data.stroke==1)&(data.smoking_status==0)])/len(data[data.smoking_status==0]) * 100, 2), \"%\")\n",
    "print(\"Percentage of stroke patients in Formerly-smoked group\", round(len(data[(data.stroke==1)&(data.smoking_status==1)])/len(data[data.smoking_status==1]) * 100, 2), \"%\")\n",
    "print(\"Percentage of stroke patients in Currently-smokes group\", round(len(data[(data.stroke==1)&(data.smoking_status==2)])/len(data[data.smoking_status==2]) * 100, 2), \"%\")\n",
    "print(\"Percentage of stroke patients in Unknown group\", round(len(data[(data.stroke==1)&(data.smoking_status==3)])/len(data[data.smoking_status==3]) * 100, 2), \"%\")"
   ]
  },
  {
   "cell_type": "code",
   "execution_count": 81,
   "id": "00b322cb",
   "metadata": {},
   "outputs": [
    {
     "data": {
      "text/html": [
       "<div>\n",
       "<style scoped>\n",
       "    .dataframe tbody tr th:only-of-type {\n",
       "        vertical-align: middle;\n",
       "    }\n",
       "\n",
       "    .dataframe tbody tr th {\n",
       "        vertical-align: top;\n",
       "    }\n",
       "\n",
       "    .dataframe thead th {\n",
       "        text-align: right;\n",
       "    }\n",
       "</style>\n",
       "<table border=\"1\" class=\"dataframe\">\n",
       "  <thead>\n",
       "    <tr style=\"text-align: right;\">\n",
       "      <th>stroke</th>\n",
       "      <th>0</th>\n",
       "      <th>1</th>\n",
       "    </tr>\n",
       "    <tr>\n",
       "      <th>smoking_status</th>\n",
       "      <th></th>\n",
       "      <th></th>\n",
       "    </tr>\n",
       "  </thead>\n",
       "  <tbody>\n",
       "    <tr>\n",
       "      <th>0</th>\n",
       "      <td>1802</td>\n",
       "      <td>90</td>\n",
       "    </tr>\n",
       "    <tr>\n",
       "      <th>1</th>\n",
       "      <td>814</td>\n",
       "      <td>70</td>\n",
       "    </tr>\n",
       "    <tr>\n",
       "      <th>2</th>\n",
       "      <td>747</td>\n",
       "      <td>42</td>\n",
       "    </tr>\n",
       "    <tr>\n",
       "      <th>3</th>\n",
       "      <td>1497</td>\n",
       "      <td>47</td>\n",
       "    </tr>\n",
       "  </tbody>\n",
       "</table>\n",
       "</div>"
      ],
      "text/plain": [
       "stroke             0   1\n",
       "smoking_status          \n",
       "0               1802  90\n",
       "1                814  70\n",
       "2                747  42\n",
       "3               1497  47"
      ]
     },
     "execution_count": 81,
     "metadata": {},
     "output_type": "execute_result"
    }
   ],
   "source": [
    "contin = pd.crosstab(data.smoking_status, data.stroke, )\n",
    "contin"
   ]
  },
  {
   "cell_type": "code",
   "execution_count": 82,
   "id": "fe58180f",
   "metadata": {
    "scrolled": false
   },
   "outputs": [
    {
     "data": {
      "text/html": [
       "<div>\n",
       "<style scoped>\n",
       "    .dataframe tbody tr th:only-of-type {\n",
       "        vertical-align: middle;\n",
       "    }\n",
       "\n",
       "    .dataframe tbody tr th {\n",
       "        vertical-align: top;\n",
       "    }\n",
       "\n",
       "    .dataframe thead th {\n",
       "        text-align: right;\n",
       "    }\n",
       "</style>\n",
       "<table border=\"1\" class=\"dataframe\">\n",
       "  <thead>\n",
       "    <tr style=\"text-align: right;\">\n",
       "      <th></th>\n",
       "      <th>chi2</th>\n",
       "      <th>p</th>\n",
       "      <th>dof</th>\n",
       "    </tr>\n",
       "  </thead>\n",
       "  <tbody>\n",
       "    <tr>\n",
       "      <th>0</th>\n",
       "      <td>29.225727</td>\n",
       "      <td>0.000002</td>\n",
       "      <td>3</td>\n",
       "    </tr>\n",
       "  </tbody>\n",
       "</table>\n",
       "</div>"
      ],
      "text/plain": [
       "        chi2         p  dof\n",
       "0  29.225727  0.000002    3"
      ]
     },
     "execution_count": 82,
     "metadata": {},
     "output_type": "execute_result"
    }
   ],
   "source": [
    "col_names = ['chi2', 'p', 'dof']\n",
    "chi2, p, dof, expected = ss.chi2_contingency(contin)\n",
    "pd.DataFrame([[chi2, p, dof]], columns=col_names)"
   ]
  },
  {
   "cell_type": "markdown",
   "id": "aa6f2bd7",
   "metadata": {},
   "source": [
    "So the p-value is way lower than 0.05, there are differences in the proportion of stroke patients among the smoking status groups.  \n",
    "But we don't know which one is different from the others."
   ]
  },
  {
   "cell_type": "markdown",
   "id": "9e40da53",
   "metadata": {},
   "source": [
    "So let's have a look at each combinations of smoking status."
   ]
  },
  {
   "cell_type": "code",
   "execution_count": 83,
   "id": "c05930a3",
   "metadata": {},
   "outputs": [],
   "source": [
    "from itertools import combinations\n",
    "combi = list(combinations([0, 1, 2, 3], 2))\n",
    "col_names = ['Feature_1', 'Percentage_1', 'Feature_2', 'Percentage_2', 'chi2', 'p', 'dof']\n",
    "status = ['Never Smoked', 'Formerly Smoked', 'Smokes', 'Unknown']\n",
    "res_df = pd.DataFrame()\n",
    "for i in range(len(combi)):\n",
    "    idx_1 = combi[i][0]\n",
    "    idx_2 = combi[i][1]\n",
    "    ct = contin.iloc[[combi[i][0], combi[i][1]]]\n",
    "    chi2, p, dof, expected = ss.chi2_contingency(ct)\n",
    "    df = pd.DataFrame([[status[idx_1], round(len(data[(data.stroke==1)&(data.smoking_status==idx_1)])/len(data[data.smoking_status==idx_1]) * 100, 2),\n",
    "                        status[idx_2], round(len(data[(data.stroke==1)&(data.smoking_status==idx_2)])/len(data[data.smoking_status==idx_2]) * 100, 2),\n",
    "                        chi2, p, dof]], columns=col_names)\n",
    "    res_df = pd.concat([res_df, df], ignore_index=True)"
   ]
  },
  {
   "cell_type": "code",
   "execution_count": 111,
   "id": "609534e0",
   "metadata": {},
   "outputs": [],
   "source": [
    "import dataframe_image as dfi"
   ]
  },
  {
   "cell_type": "code",
   "execution_count": 112,
   "id": "0ce0ac52",
   "metadata": {},
   "outputs": [],
   "source": [
    "dfi.export(res_df, 'smoking_stats.png')"
   ]
  },
  {
   "cell_type": "code",
   "execution_count": 85,
   "id": "919be50d",
   "metadata": {},
   "outputs": [
    {
     "data": {
      "text/html": [
       "<div>\n",
       "<style scoped>\n",
       "    .dataframe tbody tr th:only-of-type {\n",
       "        vertical-align: middle;\n",
       "    }\n",
       "\n",
       "    .dataframe tbody tr th {\n",
       "        vertical-align: top;\n",
       "    }\n",
       "\n",
       "    .dataframe thead th {\n",
       "        text-align: right;\n",
       "    }\n",
       "</style>\n",
       "<table border=\"1\" class=\"dataframe\">\n",
       "  <thead>\n",
       "    <tr style=\"text-align: right;\">\n",
       "      <th></th>\n",
       "      <th>Feature_1</th>\n",
       "      <th>Percentage_1</th>\n",
       "      <th>Feature_2</th>\n",
       "      <th>Percentage_2</th>\n",
       "      <th>chi2</th>\n",
       "      <th>p</th>\n",
       "      <th>dof</th>\n",
       "    </tr>\n",
       "  </thead>\n",
       "  <tbody>\n",
       "    <tr>\n",
       "      <th>0</th>\n",
       "      <td>Never Smoked</td>\n",
       "      <td>4.76</td>\n",
       "      <td>Formerly Smoked</td>\n",
       "      <td>7.92</td>\n",
       "      <td>10.513997</td>\n",
       "      <td>1.184737e-03</td>\n",
       "      <td>1</td>\n",
       "    </tr>\n",
       "    <tr>\n",
       "      <th>2</th>\n",
       "      <td>Never Smoked</td>\n",
       "      <td>4.76</td>\n",
       "      <td>Unknown</td>\n",
       "      <td>3.04</td>\n",
       "      <td>6.075748</td>\n",
       "      <td>1.370503e-02</td>\n",
       "      <td>1</td>\n",
       "    </tr>\n",
       "    <tr>\n",
       "      <th>3</th>\n",
       "      <td>Formerly Smoked</td>\n",
       "      <td>7.92</td>\n",
       "      <td>Smokes</td>\n",
       "      <td>5.32</td>\n",
       "      <td>4.089819</td>\n",
       "      <td>4.314227e-02</td>\n",
       "      <td>1</td>\n",
       "    </tr>\n",
       "    <tr>\n",
       "      <th>4</th>\n",
       "      <td>Formerly Smoked</td>\n",
       "      <td>7.92</td>\n",
       "      <td>Unknown</td>\n",
       "      <td>3.04</td>\n",
       "      <td>28.069138</td>\n",
       "      <td>1.170578e-07</td>\n",
       "      <td>1</td>\n",
       "    </tr>\n",
       "    <tr>\n",
       "      <th>5</th>\n",
       "      <td>Smokes</td>\n",
       "      <td>5.32</td>\n",
       "      <td>Unknown</td>\n",
       "      <td>3.04</td>\n",
       "      <td>6.784094</td>\n",
       "      <td>9.197369e-03</td>\n",
       "      <td>1</td>\n",
       "    </tr>\n",
       "  </tbody>\n",
       "</table>\n",
       "</div>"
      ],
      "text/plain": [
       "         Feature_1  Percentage_1        Feature_2  Percentage_2       chi2  \\\n",
       "0     Never Smoked          4.76  Formerly Smoked          7.92  10.513997   \n",
       "2     Never Smoked          4.76          Unknown          3.04   6.075748   \n",
       "3  Formerly Smoked          7.92           Smokes          5.32   4.089819   \n",
       "4  Formerly Smoked          7.92          Unknown          3.04  28.069138   \n",
       "5           Smokes          5.32          Unknown          3.04   6.784094   \n",
       "\n",
       "              p  dof  \n",
       "0  1.184737e-03    1  \n",
       "2  1.370503e-02    1  \n",
       "3  4.314227e-02    1  \n",
       "4  1.170578e-07    1  \n",
       "5  9.197369e-03    1  "
      ]
     },
     "execution_count": 85,
     "metadata": {},
     "output_type": "execute_result"
    }
   ],
   "source": [
    "res_df[res_df.p<0.05]"
   ]
  },
  {
   "cell_type": "markdown",
   "id": "a8b2eea5",
   "metadata": {},
   "source": [
    "Formerly smoked group and Never smoked group has statistically significant difference in the proportion of stroke patients.  \n",
    "But in this dataset, currently smoking group showed lower proportion of stroke patients than formerly smoked group.  \n",
    "Unknown group has lowest proportion of stroke patients.  \n",
    "In my opinion, though there is a statistically significant difference in the proportion of stroke patients between currently stmoking and formerly smoked group, there is a increasing trend in stroke positive proportion toward currently smoking or formerly smoked group.  \n",
    "Total number of dataset is quite low so it might not reflect the reality."
   ]
  },
  {
   "cell_type": "markdown",
   "id": "5e1c2cd7",
   "metadata": {},
   "source": [
    "#### Answer to question 3"
   ]
  },
  {
   "cell_type": "code",
   "execution_count": 108,
   "id": "35a7669a",
   "metadata": {},
   "outputs": [
    {
     "data": {
      "image/png": "[encoded data removed]",
      "text/plain": [
       "<Figure size 1512x504 with 3 Axes>"
      ]
     },
     "metadata": {},
     "output_type": "display_data"
    }
   ],
   "source": [
    "fig = plt.figure(figsize=(21, 7))\n",
    "gs = fig.add_gridspec(1, 3)\n",
    "gs.update(wspace=0.35, hspace=0.27)\n",
    "plot = 0\n",
    "for i in range(1):\n",
    "    for j in range(3):\n",
    "        locals()['ax'+str(plot)] = fig.add_subplot(gs[i, j])\n",
    "        plot += 1\n",
    "\n",
    "background_color = '#f6f6f6'\n",
    "fig.patch.set_facecolor(background_color) # figure background color\n",
    "\n",
    "sns.kdeplot(x='bmi', hue='stroke', data=data, shade=True, palette=['#9bb7d4', '#dcd0ff'], ax=ax0)\n",
    "\n",
    "sns.countplot(x='bmi_group', hue='stroke', data=data, palette=['#9bb7d4', '#dcd0ff'], ax=ax1);\n",
    "\n",
    "sns.countplot(x='smoking_status', hue='stroke', data=data, palette=['#9bb7d4', '#dcd0ff'], ax=ax2)\n",
    "ax2.set_xticks([0, 1, 2, 3])\n",
    "ax2.set_xticklabels(['Never Smoked', 'Formerly Smoked', 'Smokes', 'Unknown'], rotation=30)\n",
    "ax2.set_ylim(0, 2200);"
   ]
  },
  {
   "cell_type": "markdown",
   "id": "b33f00ea",
   "metadata": {},
   "source": [
    "In this dataset, smoking status can be a risk factor for stroke development.  \n",
    "Though former smoked group has the highest proportion of stroke patients, it seems there's a trend that the proportion of stroke patients increases in people whoever smoked.  \n",
    "BMI does not seem to be a risk factor for stroke, as opposed to common knowledges.  \n",
    "There might be a limitation of this dataset due to small sample size."
   ]
  },
  {
   "cell_type": "markdown",
   "id": "cd3ce29b",
   "metadata": {},
   "source": [
    "### Classification model"
   ]
  },
  {
   "cell_type": "markdown",
   "id": "b4e1b805",
   "metadata": {},
   "source": [
    "Let's make a simple classification model to predict stroke patient from this dataset."
   ]
  },
  {
   "cell_type": "markdown",
   "id": "e5027f94",
   "metadata": {},
   "source": [
    "This dataset is an imbalanced dataset so,  \n",
    "I'll use **SMOTE(Synthetic Minority Over-sampling Technique)** to balance our dataset"
   ]
  },
  {
   "cell_type": "code",
   "execution_count": 87,
   "id": "0d3f548d",
   "metadata": {},
   "outputs": [],
   "source": [
    "X = data.drop('stroke', axis=1)\n",
    "y = data.stroke\n",
    "\n",
    "X_train, X_test, y_train, y_test = train_test_split(X, y, test_size=0.3, random_state=42)"
   ]
  },
  {
   "cell_type": "code",
   "execution_count": 88,
   "id": "1ad92bd3",
   "metadata": {},
   "outputs": [],
   "source": [
    "# Our data is biased, so we can fix this with SMOTE\n",
    "\n",
    "oversample = SMOTE()\n",
    "X_train_res, y_train_res = oversample.fit_resample(X_train, y_train.ravel())"
   ]
  },
  {
   "cell_type": "code",
   "execution_count": 89,
   "id": "85e85f2a",
   "metadata": {},
   "outputs": [
    {
     "data": {
      "text/plain": [
       "((6832, 13), (6832,))"
      ]
     },
     "execution_count": 89,
     "metadata": {},
     "output_type": "execute_result"
    }
   ],
   "source": [
    "X_train_res.shape, y_train_res.shape"
   ]
  },
  {
   "cell_type": "markdown",
   "id": "219f426d",
   "metadata": {},
   "source": [
    "Then, I'll use pipeline for models.  \n",
    "I'll test RandomForestClassifier, SVC, and LogisticRegression of scikit-learn package."
   ]
  },
  {
   "cell_type": "code",
   "execution_count": 90,
   "id": "3a6aea5d",
   "metadata": {},
   "outputs": [],
   "source": [
    "# Scale data in pipeline\n",
    "\n",
    "rf_pipeline = Pipeline(steps=[('scale', StandardScaler()),\n",
    "                             ('RF', RandomForestClassifier(random_state=42))])\n",
    "svm_pipeline = Pipeline(steps=[('scale', StandardScaler()),\n",
    "                              ('SVM', SVC(random_state=42))])\n",
    "lr_pipeline = Pipeline(steps=[('scale', StandardScaler()),\n",
    "                             ('LR', LogisticRegression(random_state=42))])"
   ]
  },
  {
   "cell_type": "code",
   "execution_count": 91,
   "id": "dde8279c",
   "metadata": {},
   "outputs": [],
   "source": [
    "rf_cv = cross_val_score(rf_pipeline, X_train_res, y_train_res, cv=10, scoring='accuracy').mean()\n",
    "svm_cv = cross_val_score(svm_pipeline, X_train_res, y_train_res, cv=10, scoring='accuracy').mean()\n",
    "lr_cv = cross_val_score(lr_pipeline, X_train_res, y_train_res, cv=10, scoring='accuracy').mean()"
   ]
  },
  {
   "cell_type": "code",
   "execution_count": 92,
   "id": "4bf7bea9",
   "metadata": {},
   "outputs": [
    {
     "name": "stdout",
     "output_type": "stream",
     "text": [
      "Mean cross validation accuracy : \n",
      "Random Forest Classifier:  0.955806426755028\n",
      "SVM:  0.8981390151807043\n",
      "Logistic Regression:  0.8384175421472179\n"
     ]
    }
   ],
   "source": [
    "print(\"Mean cross validation accuracy : \")\n",
    "print(\"Random Forest Classifier: \", rf_cv)\n",
    "print(\"SVM: \", svm_cv)\n",
    "print(\"Logistic Regression: \", lr_cv)"
   ]
  },
  {
   "cell_type": "markdown",
   "id": "cd0f94df",
   "metadata": {},
   "source": [
    "So, RFC has the highest overall accuracy."
   ]
  },
  {
   "cell_type": "code",
   "execution_count": 93,
   "id": "60ad8c06",
   "metadata": {},
   "outputs": [],
   "source": [
    "rf_pipeline.fit(X_train_res, y_train_res)\n",
    "svm_pipeline.fit(X_train_res, y_train_res)\n",
    "lr_pipeline.fit(X_train_res, y_train_res)\n",
    "\n",
    "rf_pred = rf_pipeline.predict(X_test)\n",
    "svm_pred = svm_pipeline.predict(X_test)\n",
    "lr_pred = lr_pipeline.predict(X_test)\n",
    "\n",
    "rf_cm = confusion_matrix(y_test, rf_pred)\n",
    "svm_cm = confusion_matrix(y_test, svm_pred)\n",
    "lr_cm = confusion_matrix(y_test, lr_pred)\n",
    "\n",
    "rf_f1 = f1_score(y_test, rf_pred)\n",
    "svm_f1 = f1_score(y_test, svm_pred)\n",
    "lr_f1 = f1_score(y_test, lr_pred)"
   ]
  },
  {
   "cell_type": "code",
   "execution_count": 94,
   "id": "65815db1",
   "metadata": {},
   "outputs": [
    {
     "name": "stdout",
     "output_type": "stream",
     "text": [
      "F1 score : \n",
      "Random Forest Classifier:  0.21176470588235294\n",
      "SVM:  0.23566878980891717\n",
      "Logistic Regression:  0.27440633245382584\n"
     ]
    }
   ],
   "source": [
    "print(\"F1 score : \")\n",
    "print(\"Random Forest Classifier: \", rf_f1)\n",
    "print(\"SVM: \", svm_f1)\n",
    "print(\"Logistic Regression: \", lr_f1)"
   ]
  },
  {
   "cell_type": "markdown",
   "id": "216be579",
   "metadata": {},
   "source": [
    "By the way, LogisticRegression model has F1 score among these models."
   ]
  },
  {
   "cell_type": "markdown",
   "id": "2775e76e",
   "metadata": {},
   "source": [
    "Let's have a look at confusion matrices of these models."
   ]
  },
  {
   "cell_type": "code",
   "execution_count": 95,
   "id": "456b5cc9",
   "metadata": {},
   "outputs": [
    {
     "data": {
      "image/png": "[encoded data removed]",
      "text/plain": [
       "<Figure size 1080x360 with 6 Axes>"
      ]
     },
     "metadata": {
      "needs_background": "light"
     },
     "output_type": "display_data"
    }
   ],
   "source": [
    "fig = plt.figure(figsize=(15, 5))\n",
    "gs = fig.add_gridspec(1, 3)\n",
    "\n",
    "plot = 0\n",
    "for i in range(1):\n",
    "    for j in range(3):\n",
    "        locals()['ax'+str(plot)] = fig.add_subplot(gs[i, j])\n",
    "        plot += 1\n",
    "\n",
    "plot_confusion_matrix(rf_pipeline, X_test, y_test, ax=ax0)\n",
    "ax0.set_title('Random Forest')\n",
    "\n",
    "plot_confusion_matrix(svm_pipeline, X_test, y_test, ax=ax1)\n",
    "ax1.set_title('SVM')\n",
    "\n",
    "plot_confusion_matrix(lr_pipeline, X_test, y_test, ax=ax2)\n",
    "ax2.set_title('Logistic Regression')\n",
    "\n",
    "plt.show()"
   ]
  },
  {
   "cell_type": "markdown",
   "id": "9c33b18f",
   "metadata": {},
   "source": [
    "As the purpose of this classification task is to predict stroke patient and it is crucial to not miss stroke positive  \n",
    "patient, LR model seems best suited for this task."
   ]
  },
  {
   "cell_type": "markdown",
   "id": "63bc8356",
   "metadata": {},
   "source": [
    "### Parameter tuning"
   ]
  },
  {
   "cell_type": "markdown",
   "id": "06dc80a3",
   "metadata": {},
   "source": [
    "Now let's see if we can have somewhat better result by hyperparameter tuning."
   ]
  },
  {
   "cell_type": "markdown",
   "id": "a293f128",
   "metadata": {},
   "source": [
    "#### Random Forest Classifier"
   ]
  },
  {
   "cell_type": "code",
   "execution_count": 96,
   "id": "5e92e853",
   "metadata": {},
   "outputs": [],
   "source": [
    "# n_estimators = [75, 100, 125, 150, 200]\n",
    "# max_features = [2, 4, 6, 8, 10]\n",
    "# bootstrap = [True, False]\n",
    "# max_depth = [2, 4, 6, 8, 10, None]\n",
    "# param_grid = {'n_estimators': n_estimators,\n",
    "#              'max_features': max_features,\n",
    "#              'bootstrap': bootstrap,\n",
    "#              'max_depth': max_depth}"
   ]
  },
  {
   "cell_type": "code",
   "execution_count": 97,
   "id": "4bc8d6da",
   "metadata": {},
   "outputs": [],
   "source": [
    "# rfc = RandomForestClassifier()\n",
    "# gscv_rfc = GridSearchCV(rfc, param_grid)\n",
    "# gscv_rfc.fit(X_train_res, y_train_res)\n",
    "# gscv_rfc.best_params_"
   ]
  },
  {
   "cell_type": "code",
   "execution_count": 98,
   "id": "d08ebd27",
   "metadata": {},
   "outputs": [],
   "source": [
    "best_rfc = RandomForestClassifier(n_estimators=150, max_features=5, max_depth=None, bootstrap=True)\n",
    "ss = StandardScaler()\n",
    "best_rfc.fit(X_train_res, y_train_res)\n",
    "best_rfc_pred = best_rfc.predict(X_test)"
   ]
  },
  {
   "cell_type": "code",
   "execution_count": 99,
   "id": "14e35c75",
   "metadata": {},
   "outputs": [
    {
     "name": "stdout",
     "output_type": "stream",
     "text": [
      "              precision    recall  f1-score   support\n",
      "\n",
      "           0       0.95      0.95      0.95      1444\n",
      "           1       0.21      0.19      0.20        89\n",
      "\n",
      "    accuracy                           0.91      1533\n",
      "   macro avg       0.58      0.57      0.58      1533\n",
      "weighted avg       0.91      0.91      0.91      1533\n",
      "\n",
      "Accuracy Score 0.9106327462491846\n",
      "F1 Score 0.19883040935672514\n"
     ]
    }
   ],
   "source": [
    "print(classification_report(y_test, best_rfc_pred))\n",
    "print('Accuracy Score', accuracy_score(y_test, best_rfc_pred))\n",
    "print('F1 Score', f1_score(y_test, best_rfc_pred))"
   ]
  },
  {
   "cell_type": "markdown",
   "id": "f7af8bcc",
   "metadata": {},
   "source": [
    "Does not show obvious improvement."
   ]
  },
  {
   "cell_type": "markdown",
   "id": "47639efb",
   "metadata": {},
   "source": [
    "Let's have a look at important features from RFC model."
   ]
  },
  {
   "cell_type": "code",
   "execution_count": 100,
   "id": "a4588787",
   "metadata": {},
   "outputs": [
    {
     "data": {
      "text/html": [
       "<style type=\"text/css\">\n",
       "#T_c8263_row0_col1 {\n",
       "  background-color: #023858;\n",
       "  color: #f1f1f1;\n",
       "}\n",
       "#T_c8263_row1_col1 {\n",
       "  background-color: #8eb3d5;\n",
       "  color: #000000;\n",
       "}\n",
       "#T_c8263_row2_col1 {\n",
       "  background-color: #b8c6e0;\n",
       "  color: #000000;\n",
       "}\n",
       "#T_c8263_row3_col1 {\n",
       "  background-color: #bfc9e1;\n",
       "  color: #000000;\n",
       "}\n",
       "#T_c8263_row4_col1 {\n",
       "  background-color: #eae6f1;\n",
       "  color: #000000;\n",
       "}\n",
       "#T_c8263_row5_col1 {\n",
       "  background-color: #ede7f2;\n",
       "  color: #000000;\n",
       "}\n",
       "#T_c8263_row6_col1 {\n",
       "  background-color: #f5eef6;\n",
       "  color: #000000;\n",
       "}\n",
       "#T_c8263_row7_col1 {\n",
       "  background-color: #f7f0f7;\n",
       "  color: #000000;\n",
       "}\n",
       "#T_c8263_row8_col1 {\n",
       "  background-color: #f8f1f8;\n",
       "  color: #000000;\n",
       "}\n",
       "#T_c8263_row9_col1 {\n",
       "  background-color: #faf2f8;\n",
       "  color: #000000;\n",
       "}\n",
       "#T_c8263_row10_col1, #T_c8263_row11_col1 {\n",
       "  background-color: #fdf5fa;\n",
       "  color: #000000;\n",
       "}\n",
       "#T_c8263_row12_col1 {\n",
       "  background-color: #fff7fb;\n",
       "  color: #000000;\n",
       "}\n",
       "</style>\n",
       "<table id=\"T_c8263_\">\n",
       "  <thead>\n",
       "    <tr>\n",
       "      <th class=\"blank level0\" >&nbsp;</th>\n",
       "      <th class=\"col_heading level0 col0\" >Features</th>\n",
       "      <th class=\"col_heading level0 col1\" >values</th>\n",
       "    </tr>\n",
       "  </thead>\n",
       "  <tbody>\n",
       "    <tr>\n",
       "      <th id=\"T_c8263_level0_row0\" class=\"row_heading level0 row0\" >0</th>\n",
       "      <td id=\"T_c8263_row0_col0\" class=\"data row0 col0\" >age</td>\n",
       "      <td id=\"T_c8263_row0_col1\" class=\"data row0 col1\" >0.354519</td>\n",
       "    </tr>\n",
       "    <tr>\n",
       "      <th id=\"T_c8263_level0_row1\" class=\"row_heading level0 row1\" >1</th>\n",
       "      <td id=\"T_c8263_row1_col0\" class=\"data row1 col0\" >avg_glucose_level</td>\n",
       "      <td id=\"T_c8263_row1_col1\" class=\"data row1 col1\" >0.159316</td>\n",
       "    </tr>\n",
       "    <tr>\n",
       "      <th id=\"T_c8263_level0_row2\" class=\"row_heading level0 row2\" >2</th>\n",
       "      <td id=\"T_c8263_row2_col0\" class=\"data row2 col0\" >bmi</td>\n",
       "      <td id=\"T_c8263_row2_col1\" class=\"data row2 col1\" >0.120475</td>\n",
       "    </tr>\n",
       "    <tr>\n",
       "      <th id=\"T_c8263_level0_row3\" class=\"row_heading level0 row3\" >3</th>\n",
       "      <td id=\"T_c8263_row3_col0\" class=\"data row3 col0\" >age_bin</td>\n",
       "      <td id=\"T_c8263_row3_col1\" class=\"data row3 col1\" >0.113718</td>\n",
       "    </tr>\n",
       "    <tr>\n",
       "      <th id=\"T_c8263_level0_row4\" class=\"row_heading level0 row4\" >4</th>\n",
       "      <td id=\"T_c8263_row4_col0\" class=\"data row4 col0\" >smoking_status</td>\n",
       "      <td id=\"T_c8263_row4_col1\" class=\"data row4 col1\" >0.056041</td>\n",
       "    </tr>\n",
       "    <tr>\n",
       "      <th id=\"T_c8263_level0_row5\" class=\"row_heading level0 row5\" >5</th>\n",
       "      <td id=\"T_c8263_row5_col0\" class=\"data row5 col0\" >work_type</td>\n",
       "      <td id=\"T_c8263_row5_col1\" class=\"data row5 col1\" >0.051125</td>\n",
       "    </tr>\n",
       "    <tr>\n",
       "      <th id=\"T_c8263_level0_row6\" class=\"row_heading level0 row6\" >6</th>\n",
       "      <td id=\"T_c8263_row6_col0\" class=\"data row6 col0\" >gender</td>\n",
       "      <td id=\"T_c8263_row6_col1\" class=\"data row6 col1\" >0.032277</td>\n",
       "    </tr>\n",
       "    <tr>\n",
       "      <th id=\"T_c8263_level0_row7\" class=\"row_heading level0 row7\" >7</th>\n",
       "      <td id=\"T_c8263_row7_col0\" class=\"data row7 col0\" >bmi_group</td>\n",
       "      <td id=\"T_c8263_row7_col1\" class=\"data row7 col1\" >0.027924</td>\n",
       "    </tr>\n",
       "    <tr>\n",
       "      <th id=\"T_c8263_level0_row8\" class=\"row_heading level0 row8\" >8</th>\n",
       "      <td id=\"T_c8263_row8_col0\" class=\"data row8 col0\" >Residence_type</td>\n",
       "      <td id=\"T_c8263_row8_col1\" class=\"data row8 col1\" >0.026454</td>\n",
       "    </tr>\n",
       "    <tr>\n",
       "      <th id=\"T_c8263_level0_row9\" class=\"row_heading level0 row9\" >9</th>\n",
       "      <td id=\"T_c8263_row9_col0\" class=\"data row9 col0\" >ever_married</td>\n",
       "      <td id=\"T_c8263_row9_col1\" class=\"data row9 col1\" >0.021506</td>\n",
       "    </tr>\n",
       "    <tr>\n",
       "      <th id=\"T_c8263_level0_row10\" class=\"row_heading level0 row10\" >10</th>\n",
       "      <td id=\"T_c8263_row10_col0\" class=\"data row10 col0\" >hypertension</td>\n",
       "      <td id=\"T_c8263_row10_col1\" class=\"data row10 col1\" >0.013887</td>\n",
       "    </tr>\n",
       "    <tr>\n",
       "      <th id=\"T_c8263_level0_row11\" class=\"row_heading level0 row11\" >11</th>\n",
       "      <td id=\"T_c8263_row11_col0\" class=\"data row11 col0\" >heart_disease</td>\n",
       "      <td id=\"T_c8263_row11_col1\" class=\"data row11 col1\" >0.013501</td>\n",
       "    </tr>\n",
       "    <tr>\n",
       "      <th id=\"T_c8263_level0_row12\" class=\"row_heading level0 row12\" >12</th>\n",
       "      <td id=\"T_c8263_row12_col0\" class=\"data row12 col0\" >glc_group</td>\n",
       "      <td id=\"T_c8263_row12_col1\" class=\"data row12 col1\" >0.009258</td>\n",
       "    </tr>\n",
       "  </tbody>\n",
       "</table>\n"
      ],
      "text/plain": [
       "<pandas.io.formats.style.Styler at 0x23931429b50>"
      ]
     },
     "execution_count": 100,
     "metadata": {},
     "output_type": "execute_result"
    }
   ],
   "source": [
    "feats = pd.DataFrame({'Features': X_train.columns, 'values': best_rfc.feature_importances_})\n",
    "feats.sort_values(by='values', ascending=False).reset_index(drop=True).style.background_gradient()"
   ]
  },
  {
   "cell_type": "markdown",
   "id": "a092399c",
   "metadata": {},
   "source": [
    "Age showed highest feature importance value from the RFC model.  "
   ]
  },
  {
   "cell_type": "markdown",
   "id": "5f02fb2a",
   "metadata": {},
   "source": [
    "#### Logistic Regression"
   ]
  },
  {
   "cell_type": "code",
   "execution_count": 101,
   "id": "a2001e9e",
   "metadata": {},
   "outputs": [],
   "source": [
    "# penalty = ['l1', 'l2']\n",
    "# C = [0.001, 0.01, 0.1, 1, 10, 100]\n",
    "# lr_param_grid = {'penalty': penalty, \n",
    "#                 'C': C}\n",
    "# lr = LogisticRegression()\n",
    "# gscv_lr = GridSearchCV(lr, lr_param_grid)\n",
    "# gscv_lr.fit(X_train_res, y_train_res)\n",
    "# gscv_lr.best_params_"
   ]
  },
  {
   "cell_type": "code",
   "execution_count": 102,
   "id": "7e2ba074",
   "metadata": {},
   "outputs": [],
   "source": [
    "best_lr = LogisticRegression(C=0.01, penalty='l2')\n",
    "best_lr.fit(X_train_res, y_train_res)\n",
    "best_lr_pred = best_lr.predict(X_test)"
   ]
  },
  {
   "cell_type": "code",
   "execution_count": 103,
   "id": "d5741e12",
   "metadata": {},
   "outputs": [
    {
     "name": "stdout",
     "output_type": "stream",
     "text": [
      "              precision    recall  f1-score   support\n",
      "\n",
      "           0       0.98      0.81      0.89      1444\n",
      "           1       0.18      0.67      0.29        89\n",
      "\n",
      "    accuracy                           0.80      1533\n",
      "   macro avg       0.58      0.74      0.59      1533\n",
      "weighted avg       0.93      0.80      0.85      1533\n",
      "\n",
      "Accuracy Score 0.8036529680365296\n",
      "F1 Score 0.2850356294536817\n"
     ]
    }
   ],
   "source": [
    "print(classification_report(y_test, best_lr_pred))\n",
    "print('Accuracy Score', accuracy_score(y_test, best_lr_pred))\n",
    "print('F1 Score', f1_score(y_test, best_lr_pred))"
   ]
  },
  {
   "cell_type": "markdown",
   "id": "fc9ed697",
   "metadata": {},
   "source": [
    "Somewhay improved, but not quite obviously."
   ]
  },
  {
   "cell_type": "markdown",
   "id": "d44d4608",
   "metadata": {},
   "source": [
    "#### SVM"
   ]
  },
  {
   "cell_type": "code",
   "execution_count": 104,
   "id": "9d0c254f",
   "metadata": {},
   "outputs": [],
   "source": [
    "# svm_param_grid = {'C': [0.1, 1, 10, 100, 1000], \n",
    "#                  'gamma': [1, 0.1, 0.01, 0.001, 0.0001], \n",
    "#                  'kernel': ['rbf']}\n",
    "# svm = SVC()\n",
    "# gscv_svm = GridSearchCV(svm, svm_param_grid)\n",
    "# gscv_svm.fit(X_train_res, y_train_res)\n",
    "# gscv_svm.best_params_"
   ]
  },
  {
   "cell_type": "code",
   "execution_count": 105,
   "id": "37742459",
   "metadata": {},
   "outputs": [],
   "source": [
    "best_svm_pipeline = Pipeline(steps=[('scale', StandardScaler()),\n",
    "                              ('SVM', SVC(C=0.01, gamma=0.1, kernel='rbf'))])\n",
    "best_svm_pipeline.fit(X_train_res, y_train_res)\n",
    "best_svm_pred = best_svm_pipeline.predict(X_test)"
   ]
  },
  {
   "cell_type": "code",
   "execution_count": 106,
   "id": "d7189dd3",
   "metadata": {},
   "outputs": [
    {
     "name": "stdout",
     "output_type": "stream",
     "text": [
      "              precision    recall  f1-score   support\n",
      "\n",
      "           0       0.96      0.81      0.88      1444\n",
      "           1       0.14      0.52      0.22        89\n",
      "\n",
      "    accuracy                           0.79      1533\n",
      "   macro avg       0.55      0.66      0.55      1533\n",
      "weighted avg       0.92      0.79      0.84      1533\n",
      "\n",
      "Accuracy Score 0.7912589693411611\n",
      "F1 Score 0.22330097087378645\n"
     ]
    }
   ],
   "source": [
    "print(classification_report(y_test, best_svm_pred))\n",
    "print('Accuracy Score', accuracy_score(y_test, best_svm_pred))\n",
    "print('F1 Score', f1_score(y_test, best_svm_pred))"
   ]
  },
  {
   "cell_type": "markdown",
   "id": "7218887d",
   "metadata": {},
   "source": [
    "### Comparison of models"
   ]
  },
  {
   "cell_type": "code",
   "execution_count": 107,
   "id": "2f3ec49b",
   "metadata": {},
   "outputs": [
    {
     "data": {
      "image/png": "[encoded data removed]",
      "text/plain": [
       "<Figure size 1080x360 with 6 Axes>"
      ]
     },
     "metadata": {
      "needs_background": "light"
     },
     "output_type": "display_data"
    }
   ],
   "source": [
    "fig = plt.figure(figsize=(15, 5))\n",
    "gs = fig.add_gridspec(1, 3)\n",
    "\n",
    "plot = 0\n",
    "for i in range(1):\n",
    "    for j in range(3):\n",
    "        locals()['ax'+str(plot)] = fig.add_subplot(gs[i, j])\n",
    "        plot += 1\n",
    "\n",
    "ss = StandardScaler()\n",
    "\n",
    "plot_confusion_matrix(best_rfc, X_test, y_test, ax=ax0)\n",
    "ax0.set_title('Random Forest')\n",
    "\n",
    "plot_confusion_matrix(best_svm_pipeline, X_test, y_test, ax=ax1)\n",
    "ax1.set_title('SVM')\n",
    "\n",
    "plot_confusion_matrix(best_lr, X_test, y_test, ax=ax2)\n",
    "ax2.set_title('Logistic Regression')\n",
    "\n",
    "plt.show()"
   ]
  },
  {
   "cell_type": "markdown",
   "id": "b58a6b9e",
   "metadata": {},
   "source": [
    "First, we can see that LR model is best suited for this classification task if we consider that sensitivity might be more important in this task.  \n",
    "In addition, after the parameter tuning, the result from the LR model showed better sensitivity but also increased false positives.  \n",
    "In conclusion, RFC has shown best performance at overall accuracy, but LR model is best suited for this classification task.  \n",
    "And for better performance of model, it seems that we need more samples for the data and other features that can reflect the reality and help prediction of patient at risk of developing stroke.  \n",
    "Of course, we have other machine learning models to consider for this classification."
   ]
  },
  {
   "cell_type": "markdown",
   "id": "a359fd63",
   "metadata": {},
   "source": [
    "### Call of action"
   ]
  },
  {
   "cell_type": "markdown",
   "id": "4c358bd3",
   "metadata": {},
   "source": [
    "Let me summarize."
   ]
  },
  {
   "cell_type": "markdown",
   "id": "5c0a9ed3",
   "metadata": {},
   "source": [
    "1. We can see that age is the most important factor for risk of stroke development and we saw that from the result from the RFC.  \n",
    "   And marital status is also a statistically significant risk factor for developing a stroke."
   ]
  },
  {
   "cell_type": "markdown",
   "id": "eaa9b680",
   "metadata": {},
   "source": [
    "2. Hypertension, heart disease and glucose group can be a risk factor for developing stroke."
   ]
  },
  {
   "cell_type": "markdown",
   "id": "3233d8a2",
   "metadata": {},
   "source": [
    "3. Smoking status can be a risk factor for stroke development. And BMI does not seem to be a risk factor for stroke,  \n",
    "   as opposed to common knowledges. There might be a limitation of this dataset due to small sample size."
   ]
  },
  {
   "cell_type": "markdown",
   "id": "c992b17b",
   "metadata": {},
   "source": [
    "4. Even if the overall accuracy of a model is good, that model might not be well suited for a classification task if the dataset is imbalanced and the task needs better sensitivity not accuracy and it is up to us to decide."
   ]
  }
 ],
 "metadata": {
  "kernelspec": {
   "display_name": "Python 3",
   "language": "python",
   "name": "python3"
  },
  "language_info": {
   "codemirror_mode": {
    "name": "ipython",
    "version": 3
   },
   "file_extension": ".py",
   "mimetype": "text/x-python",
   "name": "python",
   "nbconvert_exporter": "python",
   "pygments_lexer": "ipython3",
   "version": "3.8.10"
  }
 },
 "nbformat": 4,
 "nbformat_minor": 5
}
